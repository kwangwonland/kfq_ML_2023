{
  "nbformat": 4,
  "nbformat_minor": 0,
  "metadata": {
    "colab": {
      "provenance": [],
      "mount_file_id": "1DcG_2nGC2_eRyTojxNArUTILDxA3ACm4",
      "authorship_tag": "ABX9TyP62GO7jRif7ctho2lBzIwW",
      "include_colab_link": true
    },
    "kernelspec": {
      "name": "python3",
      "display_name": "Python 3"
    },
    "language_info": {
      "name": "python"
    }
  },
  "cells": [
    {
      "cell_type": "markdown",
      "metadata": {
        "id": "view-in-github",
        "colab_type": "text"
      },
      "source": [
        "<a href=\"https://colab.research.google.com/github/kwangwonland/kfq_ML_2023/blob/main/0623_%ED%9A%8C%EA%B7%80%EC%8B%A4%EC%8A%B5_%EC%BA%90%EA%B8%80_%EC%A3%BC%ED%83%9D_%EA%B0%80%EA%B2%A9.ipynb\" target=\"_parent\"><img src=\"https://colab.research.google.com/assets/colab-badge.svg\" alt=\"Open In Colab\"/></a>"
      ]
    },
    {
      "cell_type": "code",
      "execution_count": 1,
      "metadata": {
        "id": "ajOf7SO9pbdG"
      },
      "outputs": [],
      "source": [
        "import pandas as pd\n",
        "import numpy as np\n",
        "import seaborn as sns\n",
        "import matplotlib.pyplot as plt"
      ]
    },
    {
      "cell_type": "code",
      "source": [
        "path='/content/drive/MyDrive/python_basic/data/house_train.csv'"
      ],
      "metadata": {
        "id": "_HvzSQvwqGsW"
      },
      "execution_count": 2,
      "outputs": []
    },
    {
      "cell_type": "code",
      "source": [
        "df=pd.read_csv(path)\n",
        "df.head()"
      ],
      "metadata": {
        "colab": {
          "base_uri": "https://localhost:8080/",
          "height": 299
        },
        "id": "kxGKRTciqI_F",
        "outputId": "ad2820be-cc79-4d9d-b0a0-6d4ecf98134c"
      },
      "execution_count": 4,
      "outputs": [
        {
          "output_type": "execute_result",
          "data": {
            "text/plain": [
              "   Id  MSSubClass MSZoning  LotFrontage  LotArea Street Alley LotShape  \\\n",
              "0   1          60       RL         65.0     8450   Pave   NaN      Reg   \n",
              "1   2          20       RL         80.0     9600   Pave   NaN      Reg   \n",
              "2   3          60       RL         68.0    11250   Pave   NaN      IR1   \n",
              "3   4          70       RL         60.0     9550   Pave   NaN      IR1   \n",
              "4   5          60       RL         84.0    14260   Pave   NaN      IR1   \n",
              "\n",
              "  LandContour Utilities  ... PoolArea PoolQC Fence MiscFeature MiscVal MoSold  \\\n",
              "0         Lvl    AllPub  ...        0    NaN   NaN         NaN       0      2   \n",
              "1         Lvl    AllPub  ...        0    NaN   NaN         NaN       0      5   \n",
              "2         Lvl    AllPub  ...        0    NaN   NaN         NaN       0      9   \n",
              "3         Lvl    AllPub  ...        0    NaN   NaN         NaN       0      2   \n",
              "4         Lvl    AllPub  ...        0    NaN   NaN         NaN       0     12   \n",
              "\n",
              "  YrSold  SaleType  SaleCondition  SalePrice  \n",
              "0   2008        WD         Normal     208500  \n",
              "1   2007        WD         Normal     181500  \n",
              "2   2008        WD         Normal     223500  \n",
              "3   2006        WD        Abnorml     140000  \n",
              "4   2008        WD         Normal     250000  \n",
              "\n",
              "[5 rows x 81 columns]"
            ],
            "text/html": [
              "\n",
              "  <div id=\"df-c69936d0-5b2f-4f0c-bdf3-2c4af19243e2\">\n",
              "    <div class=\"colab-df-container\">\n",
              "      <div>\n",
              "<style scoped>\n",
              "    .dataframe tbody tr th:only-of-type {\n",
              "        vertical-align: middle;\n",
              "    }\n",
              "\n",
              "    .dataframe tbody tr th {\n",
              "        vertical-align: top;\n",
              "    }\n",
              "\n",
              "    .dataframe thead th {\n",
              "        text-align: right;\n",
              "    }\n",
              "</style>\n",
              "<table border=\"1\" class=\"dataframe\">\n",
              "  <thead>\n",
              "    <tr style=\"text-align: right;\">\n",
              "      <th></th>\n",
              "      <th>Id</th>\n",
              "      <th>MSSubClass</th>\n",
              "      <th>MSZoning</th>\n",
              "      <th>LotFrontage</th>\n",
              "      <th>LotArea</th>\n",
              "      <th>Street</th>\n",
              "      <th>Alley</th>\n",
              "      <th>LotShape</th>\n",
              "      <th>LandContour</th>\n",
              "      <th>Utilities</th>\n",
              "      <th>...</th>\n",
              "      <th>PoolArea</th>\n",
              "      <th>PoolQC</th>\n",
              "      <th>Fence</th>\n",
              "      <th>MiscFeature</th>\n",
              "      <th>MiscVal</th>\n",
              "      <th>MoSold</th>\n",
              "      <th>YrSold</th>\n",
              "      <th>SaleType</th>\n",
              "      <th>SaleCondition</th>\n",
              "      <th>SalePrice</th>\n",
              "    </tr>\n",
              "  </thead>\n",
              "  <tbody>\n",
              "    <tr>\n",
              "      <th>0</th>\n",
              "      <td>1</td>\n",
              "      <td>60</td>\n",
              "      <td>RL</td>\n",
              "      <td>65.0</td>\n",
              "      <td>8450</td>\n",
              "      <td>Pave</td>\n",
              "      <td>NaN</td>\n",
              "      <td>Reg</td>\n",
              "      <td>Lvl</td>\n",
              "      <td>AllPub</td>\n",
              "      <td>...</td>\n",
              "      <td>0</td>\n",
              "      <td>NaN</td>\n",
              "      <td>NaN</td>\n",
              "      <td>NaN</td>\n",
              "      <td>0</td>\n",
              "      <td>2</td>\n",
              "      <td>2008</td>\n",
              "      <td>WD</td>\n",
              "      <td>Normal</td>\n",
              "      <td>208500</td>\n",
              "    </tr>\n",
              "    <tr>\n",
              "      <th>1</th>\n",
              "      <td>2</td>\n",
              "      <td>20</td>\n",
              "      <td>RL</td>\n",
              "      <td>80.0</td>\n",
              "      <td>9600</td>\n",
              "      <td>Pave</td>\n",
              "      <td>NaN</td>\n",
              "      <td>Reg</td>\n",
              "      <td>Lvl</td>\n",
              "      <td>AllPub</td>\n",
              "      <td>...</td>\n",
              "      <td>0</td>\n",
              "      <td>NaN</td>\n",
              "      <td>NaN</td>\n",
              "      <td>NaN</td>\n",
              "      <td>0</td>\n",
              "      <td>5</td>\n",
              "      <td>2007</td>\n",
              "      <td>WD</td>\n",
              "      <td>Normal</td>\n",
              "      <td>181500</td>\n",
              "    </tr>\n",
              "    <tr>\n",
              "      <th>2</th>\n",
              "      <td>3</td>\n",
              "      <td>60</td>\n",
              "      <td>RL</td>\n",
              "      <td>68.0</td>\n",
              "      <td>11250</td>\n",
              "      <td>Pave</td>\n",
              "      <td>NaN</td>\n",
              "      <td>IR1</td>\n",
              "      <td>Lvl</td>\n",
              "      <td>AllPub</td>\n",
              "      <td>...</td>\n",
              "      <td>0</td>\n",
              "      <td>NaN</td>\n",
              "      <td>NaN</td>\n",
              "      <td>NaN</td>\n",
              "      <td>0</td>\n",
              "      <td>9</td>\n",
              "      <td>2008</td>\n",
              "      <td>WD</td>\n",
              "      <td>Normal</td>\n",
              "      <td>223500</td>\n",
              "    </tr>\n",
              "    <tr>\n",
              "      <th>3</th>\n",
              "      <td>4</td>\n",
              "      <td>70</td>\n",
              "      <td>RL</td>\n",
              "      <td>60.0</td>\n",
              "      <td>9550</td>\n",
              "      <td>Pave</td>\n",
              "      <td>NaN</td>\n",
              "      <td>IR1</td>\n",
              "      <td>Lvl</td>\n",
              "      <td>AllPub</td>\n",
              "      <td>...</td>\n",
              "      <td>0</td>\n",
              "      <td>NaN</td>\n",
              "      <td>NaN</td>\n",
              "      <td>NaN</td>\n",
              "      <td>0</td>\n",
              "      <td>2</td>\n",
              "      <td>2006</td>\n",
              "      <td>WD</td>\n",
              "      <td>Abnorml</td>\n",
              "      <td>140000</td>\n",
              "    </tr>\n",
              "    <tr>\n",
              "      <th>4</th>\n",
              "      <td>5</td>\n",
              "      <td>60</td>\n",
              "      <td>RL</td>\n",
              "      <td>84.0</td>\n",
              "      <td>14260</td>\n",
              "      <td>Pave</td>\n",
              "      <td>NaN</td>\n",
              "      <td>IR1</td>\n",
              "      <td>Lvl</td>\n",
              "      <td>AllPub</td>\n",
              "      <td>...</td>\n",
              "      <td>0</td>\n",
              "      <td>NaN</td>\n",
              "      <td>NaN</td>\n",
              "      <td>NaN</td>\n",
              "      <td>0</td>\n",
              "      <td>12</td>\n",
              "      <td>2008</td>\n",
              "      <td>WD</td>\n",
              "      <td>Normal</td>\n",
              "      <td>250000</td>\n",
              "    </tr>\n",
              "  </tbody>\n",
              "</table>\n",
              "<p>5 rows × 81 columns</p>\n",
              "</div>\n",
              "      <button class=\"colab-df-convert\" onclick=\"convertToInteractive('df-c69936d0-5b2f-4f0c-bdf3-2c4af19243e2')\"\n",
              "              title=\"Convert this dataframe to an interactive table.\"\n",
              "              style=\"display:none;\">\n",
              "        \n",
              "  <svg xmlns=\"http://www.w3.org/2000/svg\" height=\"24px\"viewBox=\"0 0 24 24\"\n",
              "       width=\"24px\">\n",
              "    <path d=\"M0 0h24v24H0V0z\" fill=\"none\"/>\n",
              "    <path d=\"M18.56 5.44l.94 2.06.94-2.06 2.06-.94-2.06-.94-.94-2.06-.94 2.06-2.06.94zm-11 1L8.5 8.5l.94-2.06 2.06-.94-2.06-.94L8.5 2.5l-.94 2.06-2.06.94zm10 10l.94 2.06.94-2.06 2.06-.94-2.06-.94-.94-2.06-.94 2.06-2.06.94z\"/><path d=\"M17.41 7.96l-1.37-1.37c-.4-.4-.92-.59-1.43-.59-.52 0-1.04.2-1.43.59L10.3 9.45l-7.72 7.72c-.78.78-.78 2.05 0 2.83L4 21.41c.39.39.9.59 1.41.59.51 0 1.02-.2 1.41-.59l7.78-7.78 2.81-2.81c.8-.78.8-2.07 0-2.86zM5.41 20L4 18.59l7.72-7.72 1.47 1.35L5.41 20z\"/>\n",
              "  </svg>\n",
              "      </button>\n",
              "      \n",
              "  <style>\n",
              "    .colab-df-container {\n",
              "      display:flex;\n",
              "      flex-wrap:wrap;\n",
              "      gap: 12px;\n",
              "    }\n",
              "\n",
              "    .colab-df-convert {\n",
              "      background-color: #E8F0FE;\n",
              "      border: none;\n",
              "      border-radius: 50%;\n",
              "      cursor: pointer;\n",
              "      display: none;\n",
              "      fill: #1967D2;\n",
              "      height: 32px;\n",
              "      padding: 0 0 0 0;\n",
              "      width: 32px;\n",
              "    }\n",
              "\n",
              "    .colab-df-convert:hover {\n",
              "      background-color: #E2EBFA;\n",
              "      box-shadow: 0px 1px 2px rgba(60, 64, 67, 0.3), 0px 1px 3px 1px rgba(60, 64, 67, 0.15);\n",
              "      fill: #174EA6;\n",
              "    }\n",
              "\n",
              "    [theme=dark] .colab-df-convert {\n",
              "      background-color: #3B4455;\n",
              "      fill: #D2E3FC;\n",
              "    }\n",
              "\n",
              "    [theme=dark] .colab-df-convert:hover {\n",
              "      background-color: #434B5C;\n",
              "      box-shadow: 0px 1px 3px 1px rgba(0, 0, 0, 0.15);\n",
              "      filter: drop-shadow(0px 1px 2px rgba(0, 0, 0, 0.3));\n",
              "      fill: #FFFFFF;\n",
              "    }\n",
              "  </style>\n",
              "\n",
              "      <script>\n",
              "        const buttonEl =\n",
              "          document.querySelector('#df-c69936d0-5b2f-4f0c-bdf3-2c4af19243e2 button.colab-df-convert');\n",
              "        buttonEl.style.display =\n",
              "          google.colab.kernel.accessAllowed ? 'block' : 'none';\n",
              "\n",
              "        async function convertToInteractive(key) {\n",
              "          const element = document.querySelector('#df-c69936d0-5b2f-4f0c-bdf3-2c4af19243e2');\n",
              "          const dataTable =\n",
              "            await google.colab.kernel.invokeFunction('convertToInteractive',\n",
              "                                                     [key], {});\n",
              "          if (!dataTable) return;\n",
              "\n",
              "          const docLinkHtml = 'Like what you see? Visit the ' +\n",
              "            '<a target=\"_blank\" href=https://colab.research.google.com/notebooks/data_table.ipynb>data table notebook</a>'\n",
              "            + ' to learn more about interactive tables.';\n",
              "          element.innerHTML = '';\n",
              "          dataTable['output_type'] = 'display_data';\n",
              "          await google.colab.output.renderOutput(dataTable, element);\n",
              "          const docLink = document.createElement('div');\n",
              "          docLink.innerHTML = docLinkHtml;\n",
              "          element.appendChild(docLink);\n",
              "        }\n",
              "      </script>\n",
              "    </div>\n",
              "  </div>\n",
              "  "
            ]
          },
          "metadata": {},
          "execution_count": 4
        }
      ]
    },
    {
      "cell_type": "code",
      "source": [
        "df.info()"
      ],
      "metadata": {
        "id": "F0EkiCp9qKbH"
      },
      "execution_count": null,
      "outputs": []
    },
    {
      "cell_type": "code",
      "source": [
        "ns=df.isnull().sum()\n",
        "ns[ns>0].sort_values(ascending=False)\n",
        "ncs=ns[ns>100].index\n",
        "df=df.drop(ncs,axis=1)"
      ],
      "metadata": {
        "id": "WdbMszMHqeFx"
      },
      "execution_count": 16,
      "outputs": []
    },
    {
      "cell_type": "code",
      "source": [
        "ns=df.isnull().sum()\n",
        "ns[ns>0]"
      ],
      "metadata": {
        "colab": {
          "base_uri": "https://localhost:8080/"
        },
        "id": "fKjKNPwYrHLV",
        "outputId": "646059ff-bb87-4420-9540-5110c86046c1"
      },
      "execution_count": 17,
      "outputs": [
        {
          "output_type": "execute_result",
          "data": {
            "text/plain": [
              "Series([], dtype: int64)"
            ]
          },
          "metadata": {},
          "execution_count": 17
        }
      ]
    },
    {
      "cell_type": "code",
      "source": [
        "df=df[df['MasVnrArea'].notnull()]"
      ],
      "metadata": {
        "id": "KmX1UZ15r_bc"
      },
      "execution_count": 20,
      "outputs": []
    },
    {
      "cell_type": "code",
      "source": [
        "df=df[df['GarageYrBlt'].notnull()]"
      ],
      "metadata": {
        "id": "dTMimJvct2dZ"
      },
      "execution_count": 25,
      "outputs": []
    },
    {
      "cell_type": "code",
      "source": [
        "from sklearn.preprocessing import LabelEncoder"
      ],
      "metadata": {
        "id": "rr_BBv1xvASj"
      },
      "execution_count": 29,
      "outputs": []
    },
    {
      "cell_type": "code",
      "source": [
        "ncs=ns[ns>0].index\n",
        "for column in ncs:\n",
        "    le=LabelEncoder()\n",
        "    df[column]=le.fit_transform(df[column])"
      ],
      "metadata": {
        "id": "P_STHcfcvLNc"
      },
      "execution_count": null,
      "outputs": []
    },
    {
      "cell_type": "code",
      "source": [
        "df.info()"
      ],
      "metadata": {
        "id": "faTx-ptUvxUT"
      },
      "execution_count": null,
      "outputs": []
    },
    {
      "cell_type": "code",
      "source": [
        "df[ncs].info()"
      ],
      "metadata": {
        "colab": {
          "base_uri": "https://localhost:8080/"
        },
        "id": "MyoKw2DWv4dO",
        "outputId": "069870b3-c5db-41e6-b65b-90534d4e5c36"
      },
      "execution_count": 32,
      "outputs": [
        {
          "output_type": "stream",
          "name": "stdout",
          "text": [
            "<class 'pandas.core.frame.DataFrame'>\n",
            "Int64Index: 1371 entries, 0 to 1459\n",
            "Data columns (total 13 columns):\n",
            " #   Column        Non-Null Count  Dtype\n",
            "---  ------        --------------  -----\n",
            " 0   MasVnrType    1371 non-null   int64\n",
            " 1   MasVnrArea    1371 non-null   int64\n",
            " 2   BsmtQual      1371 non-null   int64\n",
            " 3   BsmtCond      1371 non-null   int64\n",
            " 4   BsmtExposure  1371 non-null   int64\n",
            " 5   BsmtFinType1  1371 non-null   int64\n",
            " 6   BsmtFinType2  1371 non-null   int64\n",
            " 7   Electrical    1371 non-null   int64\n",
            " 8   GarageType    1371 non-null   int64\n",
            " 9   GarageYrBlt   1371 non-null   int64\n",
            " 10  GarageFinish  1371 non-null   int64\n",
            " 11  GarageQual    1371 non-null   int64\n",
            " 12  GarageCond    1371 non-null   int64\n",
            "dtypes: int64(13)\n",
            "memory usage: 150.0 KB\n"
          ]
        }
      ]
    },
    {
      "cell_type": "code",
      "source": [
        "from sklearn.preprocessing import StandardScaler\n",
        "from sklearn.model_selection import train_test_split"
      ],
      "metadata": {
        "id": "0iif5doxwD0s"
      },
      "execution_count": 33,
      "outputs": []
    },
    {
      "cell_type": "code",
      "source": [
        "dof=df[df.columns].dtypes==object\n",
        "ocs=df.columns[dof]"
      ],
      "metadata": {
        "id": "KanR4Ryww11A"
      },
      "execution_count": 53,
      "outputs": []
    },
    {
      "cell_type": "code",
      "source": [
        "for column in ocs:\n",
        "    le=LabelEncoder()\n",
        "    df[column]=le.fit_transform(df[column])"
      ],
      "metadata": {
        "id": "_8p6mmqJxISj"
      },
      "execution_count": 54,
      "outputs": []
    },
    {
      "cell_type": "code",
      "source": [
        "data=df.drop('SalePrice',axis=1)\n",
        "label=df['SalePrice']"
      ],
      "metadata": {
        "id": "NjM_UNF7yOfP"
      },
      "execution_count": 56,
      "outputs": []
    },
    {
      "cell_type": "code",
      "source": [
        "ss=StandardScaler()\n",
        "scaled_data=ss.fit_transform(data)"
      ],
      "metadata": {
        "id": "hccOBxPryf4-"
      },
      "execution_count": 57,
      "outputs": []
    },
    {
      "cell_type": "code",
      "source": [
        "label.hist(bins=30)\n",
        "plt.show()"
      ],
      "metadata": {
        "colab": {
          "base_uri": "https://localhost:8080/",
          "height": 430
        },
        "id": "dkEXYnVeylW3",
        "outputId": "f2ad546a-25f7-4020-f191-033a4d198146"
      },
      "execution_count": 58,
      "outputs": [
        {
          "output_type": "display_data",
          "data": {
            "text/plain": [
              "<Figure size 640x480 with 1 Axes>"
            ],
            "image/png": "[encoded data removed]"
          },
          "metadata": {}
        }
      ]
    },
    {
      "cell_type": "code",
      "source": [
        "label_log=np.log1p(label)"
      ],
      "metadata": {
        "id": "8URaOI6w2bXZ"
      },
      "execution_count": 94,
      "outputs": []
    },
    {
      "cell_type": "code",
      "source": [
        "from sklearn.metrics import mean_squared_error\n",
        "from sklearn.metrics import mean_absolute_error\n",
        "from sklearn.metrics import r2_score\n",
        "def rmsle(y,pred):\n",
        "  log_y = np.log1p(y)\n",
        "  log_pred = np.log1p(pred)\n",
        "  se = (log_y - log_pred)**2\n",
        "  return np.sqrt(np.mean(se))\n",
        "def rmse(y,pred):\n",
        "  return np.sqrt(mean_squared_error(y,pred))\n",
        "def evaluate_regr(y,pred):\n",
        "  rv1 = rmsle(y,pred)\n",
        "  rv2 = rmse(y,pred)\n",
        "  rv3 = mean_absolute_error(y,pred)\n",
        "  r2 = r2_score(y,pred)\n",
        "  print(f'r2:{r2:.3f} RMSLE:{rv1:.3f} RMSE:{rv2:.3f} MAE:{rv3:.3f}')"
      ],
      "metadata": {
        "id": "oAvWAHDj2kEa"
      },
      "execution_count": 95,
      "outputs": []
    },
    {
      "cell_type": "code",
      "source": [
        "darr=[]\n",
        "marr=['data-label','sd-label','data-labellog','sd-labellog']\n",
        "darr.append(train_test_split(data,label))\n",
        "darr.append(train_test_split(scaled_data,label))\n",
        "darr.append(train_test_split(data,label_log))\n",
        "darr.append(train_test_split(scaled_data,label_log))"
      ],
      "metadata": {
        "id": "WFowO-gM3Yhi"
      },
      "execution_count": 96,
      "outputs": []
    },
    {
      "cell_type": "code",
      "source": [
        "def model_test(model,x_train,x_test,y_train,y_test,flag=True):\n",
        "  model.fit(x_train,y_train)\n",
        "  pred = model.predict(x_test)\n",
        "  evaluate_regr(y_test,pred)\n",
        "  if flag:\n",
        "    pred_exp = np.expm1(pred)\n",
        "    pred_yt = np.expm1(y_test)\n",
        "    evaluate_regr(pred_yt,pred_exp)"
      ],
      "metadata": {
        "id": "_T7DK9Ch4Vkb"
      },
      "execution_count": 97,
      "outputs": []
    },
    {
      "cell_type": "code",
      "source": [
        "def model_tests(model):\n",
        "  print(\"###\",model.__class__.__name__)\n",
        "  for i,(xtr,xte,ytr,yte) in enumerate(darr):\n",
        "    print(\"\\t\",marr[i])\n",
        "    model_test(model,xtr,xte,ytr,yte,i>=2)"
      ],
      "metadata": {
        "id": "-9LEggJI4yVY"
      },
      "execution_count": 98,
      "outputs": []
    },
    {
      "cell_type": "code",
      "source": [
        "from sklearn.linear_model import LinearRegression"
      ],
      "metadata": {
        "id": "XeVF9Ytq5mc4"
      },
      "execution_count": 99,
      "outputs": []
    },
    {
      "cell_type": "code",
      "source": [
        "model=LinearRegression()\n",
        "model_tests(model)"
      ],
      "metadata": {
        "colab": {
          "base_uri": "https://localhost:8080/"
        },
        "id": "NpACCDQ75sr4",
        "outputId": "40cbde42-aa0d-4d11-ecf8-7fa8df22f08c"
      },
      "execution_count": 100,
      "outputs": [
        {
          "output_type": "stream",
          "name": "stdout",
          "text": [
            "### LinearRegression\n",
            "\t data-label\n",
            "r2:0.592 RMSLE:0.160 RMSE:44351.714 MAE:19385.363\n",
            "\t sd-label\n",
            "r2:-2346450671877380611506176.000 RMSLE:0.158 RMSE:115127938636631760.000 MAE:6216324379367347.000\n",
            "\t data-labellog\n",
            "r2:0.892 RMSLE:0.010 RMSE:0.123 MAE:0.089\n",
            "r2:0.910 RMSLE:0.123 RMSE:22883.044 MAE:16026.298\n",
            "\t sd-labellog\n",
            "r2:0.762 RMSLE:0.014 RMSE:0.190 MAE:0.094\n",
            "r2:-0.997 RMSLE:0.190 RMSE:120960.830 MAE:22484.965\n"
          ]
        },
        {
          "output_type": "stream",
          "name": "stderr",
          "text": [
            "<ipython-input-95-ebd6af9afb04>:6: RuntimeWarning: invalid value encountered in log1p\n",
            "  log_pred = np.log1p(pred)\n"
          ]
        }
      ]
    },
    {
      "cell_type": "code",
      "source": [
        "from sklearn.linear_model import LinearRegression\n",
        "from sklearn.linear_model import Ridge,Lasso\n",
        "from sklearn.tree import DecisionTreeRegressor\n",
        "from sklearn.ensemble import RandomForestRegressor\n",
        "from sklearn.ensemble import GradientBoostingRegressor\n",
        "from xgboost import XGBRegressor\n",
        "from lightgbm import LGBMRegressor"
      ],
      "metadata": {
        "id": "E9DMMmJY5vlG"
      },
      "execution_count": 101,
      "outputs": []
    },
    {
      "cell_type": "code",
      "source": [
        "m1 = LinearRegression()\n",
        "m2 = Ridge()\n",
        "m3 = Lasso()\n",
        "m4 = DecisionTreeRegressor()\n",
        "m5 = RandomForestRegressor()\n",
        "m6 = GradientBoostingRegressor()\n",
        "m7 = XGBRegressor()\n",
        "m8 = LGBMRegressor()\n",
        "models = [m1,m2,m3,m4,m5,m6,m7,m8]\n",
        "for model in models:\n",
        "  model_tests(model)"
      ],
      "metadata": {
        "id": "vBILJ-ku9O8M"
      },
      "execution_count": null,
      "outputs": []
    },
    {
      "cell_type": "code",
      "source": [
        "aps = [0, 0.001,0.01,0.1,1,2,5,10,100]\n",
        "for a in aps:\n",
        "  model = Ridge(alpha=a)\n",
        "  print(\"!!!!!! alpha:\",a)\n",
        "  model_tests(model)"
      ],
      "metadata": {
        "id": "_iIKPsV19qKX"
      },
      "execution_count": null,
      "outputs": []
    },
    {
      "cell_type": "code",
      "source": [
        "from sklearn.model_selection import GridSearchCV\n",
        "params = {\n",
        "    'num_leaves' :[5,10,30,100],\n",
        "    'max_depth' :[3,5,10,15,-1],\n",
        "    'min_child_samples':[10,20,100,1000]\n",
        "}\n",
        "model = LGBMRegressor(n_estimators=500)\n",
        "gs = GridSearchCV(model,param_grid=params,cv=5)\n",
        "model_tests(gs)"
      ],
      "metadata": {
        "colab": {
          "base_uri": "https://localhost:8080/"
        },
        "id": "Lq8UWLLK_BLL",
        "outputId": "a5874f73-bf9a-45f6-8718-a45f47de60ee"
      },
      "execution_count": 106,
      "outputs": [
        {
          "output_type": "stream",
          "name": "stdout",
          "text": [
            "### GridSearchCV\n",
            "\t data-label\n",
            "r2:0.859 RMSLE:0.118 RMSE:26082.864 MAE:15148.914\n",
            "\t sd-label\n",
            "r2:0.891 RMSLE:0.128 RMSE:24810.986 MAE:16675.742\n",
            "\t data-labellog\n",
            "r2:0.902 RMSLE:0.009 RMSE:0.117 MAE:0.084\n",
            "r2:0.915 RMSLE:0.117 RMSE:22251.715 MAE:15265.334\n",
            "\t sd-labellog\n",
            "r2:0.876 RMSLE:0.010 RMSE:0.137 MAE:0.094\n",
            "r2:0.847 RMSLE:0.137 RMSE:33453.884 MAE:18820.363\n"
          ]
        }
      ]
    },
    {
      "cell_type": "code",
      "source": [
        "from sklearn.model_selection import GridSearchCV\n",
        "params = {\n",
        "    'num_leaves' :[5,10,30,100],\n",
        "    'max_depth' :[3,5,10,15,-1],\n",
        "    'min_child_samples':[10,20,100,1000]\n",
        "}\n",
        "model = LGBMRegressor(n_estimators=500)\n",
        "gs = GridSearchCV(model,param_grid=params,cv=5)\n",
        "for i,(xtr,xte,ytr,yte) in enumerate(darr):\n",
        "  print(\"\\t\",marr[i])\n",
        "  model_test(gs,xtr,xte,ytr,yte,i>=2)\n",
        "  print(\"best:\",gs.best_params_)"
      ],
      "metadata": {
        "colab": {
          "base_uri": "https://localhost:8080/"
        },
        "id": "iI6h33P4AzH3",
        "outputId": "a0a8f967-90b3-44ed-f46c-4e27e562ef60"
      },
      "execution_count": 107,
      "outputs": [
        {
          "output_type": "stream",
          "name": "stdout",
          "text": [
            "\t data-label\n",
            "r2:0.859 RMSLE:0.118 RMSE:26082.864 MAE:15148.914\n",
            "best: {'max_depth': 3, 'min_child_samples': 20, 'num_leaves': 5}\n",
            "\t sd-label\n",
            "r2:0.891 RMSLE:0.128 RMSE:24810.986 MAE:16675.742\n",
            "best: {'max_depth': -1, 'min_child_samples': 10, 'num_leaves': 30}\n",
            "\t data-labellog\n",
            "r2:0.902 RMSLE:0.009 RMSE:0.117 MAE:0.084\n",
            "r2:0.915 RMSLE:0.117 RMSE:22251.715 MAE:15265.334\n",
            "best: {'max_depth': 5, 'min_child_samples': 20, 'num_leaves': 30}\n",
            "\t sd-labellog\n",
            "r2:0.876 RMSLE:0.010 RMSE:0.137 MAE:0.094\n",
            "r2:0.847 RMSLE:0.137 RMSE:33453.884 MAE:18820.363\n",
            "best: {'max_depth': 3, 'min_child_samples': 20, 'num_leaves': 5}\n"
          ]
        }
      ]
    },
    {
      "cell_type": "code",
      "source": [
        "m1 = LinearRegression()\n",
        "m2 = Ridge()\n",
        "m3 = Lasso()\n",
        "m4 = DecisionTreeRegressor()\n",
        "m5 = RandomForestRegressor()\n",
        "m6 = GradientBoostingRegressor()\n",
        "m7 = XGBRegressor()\n",
        "m8 = LGBMRegressor()\n",
        "models = [m1,m2,m3,m4,m5,m6,m7,m8]"
      ],
      "metadata": {
        "id": "YjLIRLhZEAIi"
      },
      "execution_count": 108,
      "outputs": []
    },
    {
      "cell_type": "code",
      "source": [
        "def make_meta(model,x_train,x_test,y_train):\n",
        "    model.fit(x_train,y_train)\n",
        "    pred_tr=model.predict(x_train)\n",
        "    pred_te=model.predict(x_test)\n",
        "    return pred_tr,pred_te"
      ],
      "metadata": {
        "id": "xPgm01mHFCZt"
      },
      "execution_count": 109,
      "outputs": []
    },
    {
      "cell_type": "code",
      "source": [
        "def make_metas(models,x_train,x_test,y_train):\n",
        "    df_tr=pd.DataFrame()\n",
        "    df_te=pd.DataFrame()\n",
        "    for i,model in enumerate(models):\n",
        "        pred_tr,pred_te=make_meta(model,x_train,x_test,y_train)\n",
        "        df_tr['meta_'+str(i)]=pred_tr\n",
        "        df_te['meta_'+str(i)]=pred_te\n",
        "    return df_tr,df_te\n"
      ],
      "metadata": {
        "id": "OMA9nCmrFZMt"
      },
      "execution_count": 112,
      "outputs": []
    },
    {
      "cell_type": "code",
      "source": [
        "xtr,xte,ytr,yte=train_test_split(data,label_log)\n",
        "mdf_tr,mdf_te=make_metas(models,xtr,xte,ytr)\n",
        "mdf_tr.shape,mdf_te.shape"
      ],
      "metadata": {
        "colab": {
          "base_uri": "https://localhost:8080/"
        },
        "id": "U_KlO_DVF9t1",
        "outputId": "9a4bf198-30d8-4658-baa3-1ea19c725719"
      },
      "execution_count": 113,
      "outputs": [
        {
          "output_type": "execute_result",
          "data": {
            "text/plain": [
              "((1028, 8), (343, 8))"
            ]
          },
          "metadata": {},
          "execution_count": 113
        }
      ]
    },
    {
      "cell_type": "code",
      "source": [
        "m1 = LinearRegression()\n",
        "m2 = Ridge()\n",
        "m3 = Lasso()\n",
        "m4 = DecisionTreeRegressor()\n",
        "m5 = RandomForestRegressor()\n",
        "m6 = GradientBoostingRegressor()\n",
        "m7 = XGBRegressor()\n",
        "m8 = LGBMRegressor()\n",
        "models = [m1,m2,m3,m4,m5,m6,m7,m8]"
      ],
      "metadata": {
        "id": "-HdDbniwHDME"
      },
      "execution_count": 115,
      "outputs": []
    },
    {
      "cell_type": "code",
      "source": [
        "for model in models:\n",
        "    model_test(model,mdf_tr,mdf_te,ytr,yte)"
      ],
      "metadata": {
        "colab": {
          "base_uri": "https://localhost:8080/"
        },
        "id": "d5mk0xtgHeLp",
        "outputId": "843ce963-5367-4391-d864-8e957e461987"
      },
      "execution_count": 116,
      "outputs": [
        {
          "output_type": "stream",
          "name": "stdout",
          "text": [
            "r2:0.686 RMSLE:0.017 RMSE:0.222 MAE:0.150\n",
            "r2:0.630 RMSLE:0.222 RMSE:48812.012 MAE:28664.420\n",
            "r2:0.850 RMSLE:0.012 RMSE:0.154 MAE:0.104\n",
            "r2:0.832 RMSLE:0.154 RMSE:32932.007 MAE:20003.246\n",
            "r2:-0.000 RMSLE:0.030 RMSE:0.397 MAE:0.319\n",
            "r2:-0.032 RMSLE:0.397 RMSE:81501.560 MAE:59150.915\n",
            "r2:0.727 RMSLE:0.016 RMSE:0.207 MAE:0.141\n",
            "r2:0.723 RMSLE:0.207 RMSE:42213.433 MAE:26153.029\n",
            "r2:0.768 RMSLE:0.015 RMSE:0.191 MAE:0.129\n",
            "r2:0.764 RMSLE:0.191 RMSE:39004.899 MAE:24124.171\n",
            "r2:0.743 RMSLE:0.015 RMSE:0.201 MAE:0.137\n",
            "r2:0.742 RMSLE:0.201 RMSE:40773.083 MAE:25342.365\n",
            "r2:0.695 RMSLE:0.017 RMSE:0.219 MAE:0.147\n",
            "r2:0.642 RMSLE:0.219 RMSE:48009.348 MAE:28184.080\n",
            "r2:0.742 RMSLE:0.015 RMSE:0.201 MAE:0.135\n",
            "r2:0.738 RMSLE:0.201 RMSE:41055.086 MAE:24994.822\n"
          ]
        }
      ]
    },
    {
      "cell_type": "code",
      "source": [],
      "metadata": {
        "id": "c3ymOYY9HwTN"
      },
      "execution_count": null,
      "outputs": []
    }
  ]
}