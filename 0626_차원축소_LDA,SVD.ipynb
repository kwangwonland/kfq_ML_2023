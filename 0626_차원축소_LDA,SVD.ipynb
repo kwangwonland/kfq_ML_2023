{
  "nbformat": 4,
  "nbformat_minor": 0,
  "metadata": {
    "colab": {
      "provenance": [],
      "authorship_tag": "ABX9TyNCF4hqhBLpGHaJzDg+zdi4",
      "include_colab_link": true
    },
    "kernelspec": {
      "name": "python3",
      "display_name": "Python 3"
    },
    "language_info": {
      "name": "python"
    }
  },
  "cells": [
    {
      "cell_type": "markdown",
      "metadata": {
        "id": "view-in-github",
        "colab_type": "text"
      },
      "source": [
        "<a href=\"https://colab.research.google.com/github/kwangwonland/kfq_ML_2023/blob/main/0626_%EC%B0%A8%EC%9B%90%EC%B6%95%EC%86%8C_LDA%2CSVD.ipynb\" target=\"_parent\"><img src=\"https://colab.research.google.com/assets/colab-badge.svg\" alt=\"Open In Colab\"/></a>"
      ]
    },
    {
      "cell_type": "markdown",
      "source": [
        "LDA는 종속 변수와 무관하게 독립 변수의 추세를 보기 쉬운 축을 기준으로 하는 PCA와 다르게 클래스를 나누는 축을 이용한다는 차이점이 있음"
      ],
      "metadata": {
        "id": "kmcfKjQXsOEf"
      }
    },
    {
      "cell_type": "code",
      "execution_count": 6,
      "metadata": {
        "id": "dr4trQJYjFbw"
      },
      "outputs": [],
      "source": [
        "from sklearn.datasets import load_iris\n",
        "from sklearn.preprocessing import StandardScaler\n",
        "from sklearn.discriminant_analysis import LinearDiscriminantAnalysis"
      ]
    },
    {
      "cell_type": "code",
      "source": [
        "import pandas as pd\n",
        "import numpy as np\n",
        "import matplotlib.pyplot as plt\n",
        "import seaborn as sns"
      ],
      "metadata": {
        "id": "iL7SL26FjZzv"
      },
      "execution_count": 7,
      "outputs": []
    },
    {
      "cell_type": "code",
      "source": [
        "iris=load_iris()\n",
        "data=iris.data\n",
        "label=iris.target"
      ],
      "metadata": {
        "id": "i3KlFNgFjsLg"
      },
      "execution_count": 9,
      "outputs": []
    },
    {
      "cell_type": "code",
      "source": [
        "ss=StandardScaler()\n",
        "scaled_data=ss.fit_transform(data)"
      ],
      "metadata": {
        "id": "3OBY6rojjt0P"
      },
      "execution_count": 10,
      "outputs": []
    },
    {
      "cell_type": "code",
      "source": [
        "lda=LinearDiscriminantAnalysis(n_components=2)\n",
        "lda_data=lda.fit_transform(scaled_data,label)\n",
        "print(scaled_data.shape,'->',lda_data.shape)"
      ],
      "metadata": {
        "colab": {
          "base_uri": "https://localhost:8080/"
        },
        "id": "qJKDXaL3kHbE",
        "outputId": "adbd7583-fe4c-4d85-eee4-f9c9b96133f3"
      },
      "execution_count": 15,
      "outputs": [
        {
          "output_type": "stream",
          "name": "stdout",
          "text": [
            "(150, 4) -> (150, 2)\n"
          ]
        }
      ]
    },
    {
      "cell_type": "code",
      "source": [
        "df = pd.DataFrame(lda_data,columns=['l1','l2'])\n",
        "df['label']=label\n",
        "markers=['^','s','o']\n",
        "tns = iris.target_names\n",
        "for i, marker in enumerate(markers):\n",
        "  f_i = df['label']==i #품종별로 필터링\n",
        "  df_i = df[f_i] #특정 품종만 추출\n",
        "  x_data = df_i['l1'] #p1컬럼 을 x 데이터로 설정\n",
        "  y_data = df_i['l2'] #p2 컬럼을 y 데이터로 설정\n",
        "  plt.scatter(x_data,y_data,marker=marker,label=tns[i])\n",
        "plt.xlabel('l1')\n",
        "plt.ylabel('l2')\n",
        "plt.legend()\n",
        "plt.show()"
      ],
      "metadata": {
        "colab": {
          "base_uri": "https://localhost:8080/",
          "height": 454
        },
        "id": "jyAeygdYkNbc",
        "outputId": "59fa1f60-732d-40fd-83fe-76901b6f4013"
      },
      "execution_count": 16,
      "outputs": [
        {
          "output_type": "display_data",
          "data": {
            "text/plain": [
              "<Figure size 640x480 with 1 Axes>"
            ],
            "image/png": "[encoded data removed]"
          },
          "metadata": {}
        }
      ]
    },
    {
      "cell_type": "code",
      "source": [
        "from sklearn.ensemble import RandomForestClassifier\n",
        "from sklearn.model_selection import cross_val_score"
      ],
      "metadata": {
        "id": "FbcOWDvYlrQr"
      },
      "execution_count": 20,
      "outputs": []
    },
    {
      "cell_type": "code",
      "source": [
        "rfc=RandomForestClassifier()\n",
        "s=cross_val_score(rfc,lda_data,label,scoring='accuracy',cv=5)\n",
        "print('정확도;',s)\n",
        "print('평균:',s.mean())"
      ],
      "metadata": {
        "colab": {
          "base_uri": "https://localhost:8080/"
        },
        "id": "6Z4FJrGGlGfX",
        "outputId": "4c658778-6fbf-4db7-dc14-9cbd43a95dcf"
      },
      "execution_count": 22,
      "outputs": [
        {
          "output_type": "stream",
          "name": "stdout",
          "text": [
            "정확도; [1.         1.         0.9        0.93333333 1.        ]\n",
            "평균: 0.9666666666666666\n"
          ]
        }
      ]
    },
    {
      "cell_type": "markdown",
      "source": [
        "# SVD"
      ],
      "metadata": {
        "id": "8B5M_IdssmQD"
      }
    },
    {
      "cell_type": "code",
      "source": [
        "from numpy.linalg import svd"
      ],
      "metadata": {
        "id": "rEMefMCtlQXL"
      },
      "execution_count": 23,
      "outputs": []
    },
    {
      "cell_type": "code",
      "source": [
        "for _ in range(4):\n",
        "    np.random.seed(121) #랜덤 발생을 위한 씨앗 값 설정\n",
        "    for _ in range(10):\n",
        "        print(np.random.randint(1,10),end=' ')\n",
        "    print()"
      ],
      "metadata": {
        "colab": {
          "base_uri": "https://localhost:8080/"
        },
        "id": "wN89OO9ospns",
        "outputId": "ca7573d6-5167-438b-f6b6-8a877d529cad"
      },
      "execution_count": 27,
      "outputs": [
        {
          "output_type": "stream",
          "name": "stdout",
          "text": [
            "3 6 9 5 2 5 4 1 3 5 \n",
            "3 6 9 5 2 5 4 1 3 5 \n",
            "3 6 9 5 2 5 4 1 3 5 \n",
            "3 6 9 5 2 5 4 1 3 5 \n"
          ]
        }
      ]
    },
    {
      "cell_type": "code",
      "source": [
        "np.random.seed(121)\n",
        "a=np.random.randn(4,4)\n",
        "print(np.round(a,3))"
      ],
      "metadata": {
        "colab": {
          "base_uri": "https://localhost:8080/"
        },
        "id": "vUXiC3ZntCtG",
        "outputId": "67dee310-dcde-42b4-81d0-4a860a0bd011"
      },
      "execution_count": 49,
      "outputs": [
        {
          "output_type": "stream",
          "name": "stdout",
          "text": [
            "[[-0.212 -0.285 -0.574 -0.44 ]\n",
            " [-0.33   1.184  1.615  0.367]\n",
            " [-0.014  0.63   1.71  -1.327]\n",
            " [ 0.402 -0.191  1.404 -1.969]]\n"
          ]
        }
      ]
    },
    {
      "cell_type": "code",
      "source": [
        "u,sigma,vt=svd(a)\n",
        "print(a.shape,'->',u.shape,sigma.shape,vt.shape)\n",
        "print(u,sigma,vt)"
      ],
      "metadata": {
        "colab": {
          "base_uri": "https://localhost:8080/"
        },
        "id": "pDEryWa-uKIM",
        "outputId": "f4d86922-0ee0-4be4-c606-4ca27734e417"
      },
      "execution_count": 50,
      "outputs": [
        {
          "output_type": "stream",
          "name": "stdout",
          "text": [
            "(4, 4) -> (4, 4) (4,) (4, 4)\n",
            "[[-0.07913928 -0.31822729  0.86653217  0.37628494]\n",
            " [ 0.38294523  0.78655287  0.12002097  0.46934262]\n",
            " [ 0.65640669  0.02243181  0.35668848 -0.66437971]\n",
            " [ 0.64515128 -0.52873697 -0.32785711  0.44353889]] [3.4229581  2.02287339 0.46263157 0.07935069] [[ 0.04100747  0.22367823  0.78643002 -0.57429458]\n",
            " [-0.20019867  0.56209596  0.37041464  0.71187191]\n",
            " [-0.77847455  0.3945136  -0.33259252 -0.3573774 ]\n",
            " [-0.5934781  -0.69164673  0.36565426  0.18895901]]\n"
          ]
        }
      ]
    },
    {
      "cell_type": "code",
      "source": [
        "sm=np.diag(sigma)\n",
        "print(np.round(sm,3))"
      ],
      "metadata": {
        "colab": {
          "base_uri": "https://localhost:8080/"
        },
        "id": "dmZKc-9DuefC",
        "outputId": "7fd08c79-a4f6-4629-d0ad-c0df6ad5994d"
      },
      "execution_count": 51,
      "outputs": [
        {
          "output_type": "stream",
          "name": "stdout",
          "text": [
            "[[3.423 0.    0.    0.   ]\n",
            " [0.    2.023 0.    0.   ]\n",
            " [0.    0.    0.463 0.   ]\n",
            " [0.    0.    0.    0.079]]\n"
          ]
        }
      ]
    },
    {
      "cell_type": "code",
      "source": [
        "a_=np.dot(np.dot(u,sm),vt)\n",
        "print(np.round(a_,3))\n",
        "print(a,3)"
      ],
      "metadata": {
        "colab": {
          "base_uri": "https://localhost:8080/"
        },
        "id": "BZSPTpzBu9ew",
        "outputId": "f07743ab-4146-4e03-dd9b-180394af2026"
      },
      "execution_count": 52,
      "outputs": [
        {
          "output_type": "stream",
          "name": "stdout",
          "text": [
            "[[-0.212 -0.285 -0.574 -0.44 ]\n",
            " [-0.33   1.184  1.615  0.367]\n",
            " [-0.014  0.63   1.71  -1.327]\n",
            " [ 0.402 -0.191  1.404 -1.969]]\n",
            "[[-0.21203317 -0.28492917 -0.57389821 -0.44031017]\n",
            " [-0.33011056  1.18369457  1.61537293  0.36706247]\n",
            " [-0.01411931  0.6296418   1.70964074 -1.32698736]\n",
            " [ 0.40187312 -0.19142667  1.40382596 -1.96876855]] 3\n"
          ]
        }
      ]
    },
    {
      "cell_type": "code",
      "source": [
        "from sklearn.decomposition import TruncatedSVD"
      ],
      "metadata": {
        "id": "xUnkvNu7veME"
      },
      "execution_count": 53,
      "outputs": []
    },
    {
      "cell_type": "code",
      "source": [
        "tsvd=TruncatedSVD(n_components=2)"
      ],
      "metadata": {
        "id": "AtDXncslv5bT"
      },
      "execution_count": 55,
      "outputs": []
    },
    {
      "cell_type": "code",
      "source": [
        "iris=load_iris()\n",
        "data=iris.data\n",
        "label=iris.target\n",
        "tsvd=TruncatedSVD(n_components=2)\n",
        "tsvd_data=tsvd.fit_transform(data)"
      ],
      "metadata": {
        "id": "INdMXHo5wApU"
      },
      "execution_count": 56,
      "outputs": []
    },
    {
      "cell_type": "code",
      "source": [
        "df = pd.DataFrame(tsvd_data,columns=['l1','l2'])\n",
        "df['label']=label\n",
        "markers=['^','s','o']\n",
        "tns = iris.target_names\n",
        "for i, marker in enumerate(markers):\n",
        "  f_i = df['label']==i #품종별로 필터링\n",
        "  df_i = df[f_i] #특정 품종만 추출\n",
        "  x_data = df_i['l1'] #p1컬럼 을 x 데이터로 설정\n",
        "  y_data = df_i['l2'] #p2 컬럼을 y 데이터로 설정\n",
        "  plt.scatter(x_data,y_data,marker=marker,label=tns[i])\n",
        "plt.xlabel('l1')\n",
        "plt.ylabel('l2')\n",
        "plt.legend()\n",
        "plt.show()"
      ],
      "metadata": {
        "colab": {
          "base_uri": "https://localhost:8080/",
          "height": 449
        },
        "id": "ggDp1Sykwb2H",
        "outputId": "39eb1ec5-6d1f-4409-a01f-787c68519e48"
      },
      "execution_count": 57,
      "outputs": [
        {
          "output_type": "display_data",
          "data": {
            "text/plain": [
              "<Figure size 640x480 with 1 Axes>"
            ],
            "image/png": "[encoded data removed]"
          },
          "metadata": {}
        }
      ]
    },
    {
      "cell_type": "code",
      "source": [
        "rfc=RandomForestClassifier()\n",
        "s=cross_val_score(rfc,tsvd_data,label,scoring='accuracy',cv=5)\n",
        "print('정확도;',s)\n",
        "print('평균:',s.mean())"
      ],
      "metadata": {
        "colab": {
          "base_uri": "https://localhost:8080/"
        },
        "id": "UwiT5_ijwq5P",
        "outputId": "caec4528-fded-4e74-e2d5-ddbd207c8ea1"
      },
      "execution_count": 58,
      "outputs": [
        {
          "output_type": "stream",
          "name": "stdout",
          "text": [
            "정확도; [1.         0.96666667 0.96666667 0.96666667 1.        ]\n",
            "평균: 0.9800000000000001\n"
          ]
        }
      ]
    },
    {
      "cell_type": "code",
      "source": [
        "from sklearn.decomposition import PCA"
      ],
      "metadata": {
        "id": "fAEoC2FUxNhv"
      },
      "execution_count": 59,
      "outputs": []
    },
    {
      "cell_type": "code",
      "source": [
        "ss = StandardScaler()\n",
        "sd = ss.fit_transform(data)\n",
        "tsvd = TruncatedSVD(n_components=2)\n",
        "tsvd_data = tsvd.fit_transform(sd)\n",
        "pca = PCA(n_components=2)\n",
        "pca_data = pca.fit_transform(sd)"
      ],
      "metadata": {
        "id": "r2Fgf4IXxucE"
      },
      "execution_count": 60,
      "outputs": []
    },
    {
      "cell_type": "code",
      "source": [
        "_,axes = plt.subplots(ncols=2)\n",
        "df1 = pd.DataFrame(tsvd_data,columns=['l1','l2'])\n",
        "x_data = df1['l1'] #p1컬럼 을 x 데이터로 설정\n",
        "y_data = df1['l2'] #p2 컬럼을 y 데이터로 설정\n",
        "axes[0].scatter(x_data,y_data,marker='o')\n",
        "\n",
        "df2 = pd.DataFrame(pca_data,columns=['l1','l2'])\n",
        "x_data = df2['l1'] #p1컬럼 을 x 데이터로 설정\n",
        "y_data = df2['l2'] #p2 컬럼을 y 데이터로 설정\n",
        "axes[1].scatter(x_data,y_data,marker='o')\n",
        "\n",
        "plt.show()"
      ],
      "metadata": {
        "colab": {
          "base_uri": "https://localhost:8080/",
          "height": 430
        },
        "id": "AOKl25xh0LpF",
        "outputId": "f1a7b0b3-331a-4de9-a428-7cbcca94c88d"
      },
      "execution_count": 61,
      "outputs": [
        {
          "output_type": "display_data",
          "data": {
            "text/plain": [
              "<Figure size 640x480 with 2 Axes>"
            ],
            "image/png": "[encoded data removed]"
          },
          "metadata": {}
        }
      ]
    },
    {
      "cell_type": "code",
      "source": [],
      "metadata": {
        "id": "7ft4TFX20L0B"
      },
      "execution_count": null,
      "outputs": []
    }
  ]
}