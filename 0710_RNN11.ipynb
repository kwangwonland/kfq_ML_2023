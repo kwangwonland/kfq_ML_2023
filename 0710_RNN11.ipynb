{
  "nbformat": 4,
  "nbformat_minor": 0,
  "metadata": {
    "colab": {
      "provenance": [],
      "include_colab_link": true
    },
    "kernelspec": {
      "name": "python3",
      "display_name": "Python 3"
    },
    "language_info": {
      "name": "python"
    }
  },
  "cells": [
    {
      "cell_type": "markdown",
      "metadata": {
        "id": "view-in-github",
        "colab_type": "text"
      },
      "source": [
        "<a href=\"https://colab.research.google.com/github/kwangwonland/kfq_ML_2023/blob/main/0710_RNN11.ipynb\" target=\"_parent\"><img src=\"https://colab.research.google.com/assets/colab-badge.svg\" alt=\"Open In Colab\"/></a>"
      ]
    },
    {
      "cell_type": "markdown",
      "source": [
        "강의 교재 : https://wikibook.co.kr/mymlrev/"
      ],
      "metadata": {
        "id": "RmBovx7SozLE"
      }
    },
    {
      "cell_type": "markdown",
      "source": [
        "## 앞으로 삼성 응원하세요!"
      ],
      "metadata": {
        "id": "-Yd1EErWSg08"
      }
    },
    {
      "cell_type": "code",
      "execution_count": 1,
      "metadata": {
        "id": "RQFuMBp9oyuz"
      },
      "outputs": [],
      "source": [
        "import numpy as np\n",
        "import matplotlib.pyplot as plt"
      ]
    },
    {
      "cell_type": "code",
      "source": [
        "import tensorflow as tf\n",
        "from tensorflow import keras\n",
        "from keras.layers import Input, Dense, SimpleRNN\n",
        "from keras.layers import Embedding\n",
        "from keras import models\n",
        "from keras.datasets import imdb\n",
        "from keras.utils import pad_sequences"
      ],
      "metadata": {
        "id": "iq98EnR5o2ji"
      },
      "execution_count": 2,
      "outputs": []
    },
    {
      "cell_type": "code",
      "source": [
        "(x_train, y_train),(x_test, y_test) = imdb.load_data(num_words=30000)"
      ],
      "metadata": {
        "id": "rh776vuxpOab"
      },
      "execution_count": 3,
      "outputs": []
    },
    {
      "cell_type": "code",
      "source": [
        "max(max(x_test))"
      ],
      "metadata": {
        "colab": {
          "base_uri": "https://localhost:8080/"
        },
        "id": "S7dBdK4yPbgW",
        "outputId": "cf3d6ef0-4995-4728-a9f2-a7fa80a0a9bc"
      },
      "execution_count": 4,
      "outputs": [
        {
          "output_type": "execute_result",
          "data": {
            "text/plain": [
              "29894"
            ]
          },
          "metadata": {},
          "execution_count": 4
        }
      ]
    },
    {
      "cell_type": "code",
      "source": [
        "print(x_train[0])"
      ],
      "metadata": {
        "colab": {
          "base_uri": "https://localhost:8080/"
        },
        "id": "NSZ78Kkzt4w5",
        "outputId": "57293bcd-9978-4115-ff94-4ce4fb61151e"
      },
      "execution_count": 5,
      "outputs": [
        {
          "output_type": "stream",
          "name": "stdout",
          "text": [
            "[1, 14, 22, 16, 43, 530, 973, 1622, 1385, 65, 458, 4468, 66, 3941, 4, 173, 36, 256, 5, 25, 100, 43, 838, 112, 50, 670, 22665, 9, 35, 480, 284, 5, 150, 4, 172, 112, 167, 21631, 336, 385, 39, 4, 172, 4536, 1111, 17, 546, 38, 13, 447, 4, 192, 50, 16, 6, 147, 2025, 19, 14, 22, 4, 1920, 4613, 469, 4, 22, 71, 87, 12, 16, 43, 530, 38, 76, 15, 13, 1247, 4, 22, 17, 515, 17, 12, 16, 626, 18, 19193, 5, 62, 386, 12, 8, 316, 8, 106, 5, 4, 2223, 5244, 16, 480, 66, 3785, 33, 4, 130, 12, 16, 38, 619, 5, 25, 124, 51, 36, 135, 48, 25, 1415, 33, 6, 22, 12, 215, 28, 77, 52, 5, 14, 407, 16, 82, 10311, 8, 4, 107, 117, 5952, 15, 256, 4, 2, 7, 3766, 5, 723, 36, 71, 43, 530, 476, 26, 400, 317, 46, 7, 4, 12118, 1029, 13, 104, 88, 4, 381, 15, 297, 98, 32, 2071, 56, 26, 141, 6, 194, 7486, 18, 4, 226, 22, 21, 134, 476, 26, 480, 5, 144, 30, 5535, 18, 51, 36, 28, 224, 92, 25, 104, 4, 226, 65, 16, 38, 1334, 88, 12, 16, 283, 5, 16, 4472, 113, 103, 32, 15, 16, 5345, 19, 178, 32]\n"
          ]
        }
      ]
    },
    {
      "cell_type": "code",
      "source": [
        "word_dic = imdb.get_word_index()"
      ],
      "metadata": {
        "id": "rOO3_BcVuy3M",
        "colab": {
          "base_uri": "https://localhost:8080/"
        },
        "outputId": "eeadacd6-d7de-4e49-faa5-c2ecb79b4a83"
      },
      "execution_count": 6,
      "outputs": [
        {
          "output_type": "stream",
          "name": "stdout",
          "text": [
            "Downloading data from https://storage.googleapis.com/tensorflow/tf-keras-datasets/imdb_word_index.json\n",
            "1641221/1641221 [==============================] - 0s 0us/step\n"
          ]
        }
      ]
    },
    {
      "cell_type": "code",
      "source": [
        "word_dic['hello']"
      ],
      "metadata": {
        "colab": {
          "base_uri": "https://localhost:8080/"
        },
        "id": "4X_JbisbvCW2",
        "outputId": "6349b466-bd68-4e53-db2c-1b406de884e3"
      },
      "execution_count": 7,
      "outputs": [
        {
          "output_type": "execute_result",
          "data": {
            "text/plain": [
              "4822"
            ]
          },
          "metadata": {},
          "execution_count": 7
        }
      ]
    },
    {
      "cell_type": "code",
      "source": [
        "index_dic = {}\n",
        "for key,value in word_dic.items():\n",
        "    index_dic[value] = key"
      ],
      "metadata": {
        "id": "Fgcq9HL4vEY0"
      },
      "execution_count": 8,
      "outputs": []
    },
    {
      "cell_type": "code",
      "source": [
        "index_dic[4822]"
      ],
      "metadata": {
        "colab": {
          "base_uri": "https://localhost:8080/",
          "height": 35
        },
        "id": "on4pZT3rvnMN",
        "outputId": "a9bb02ab-cbde-4eeb-d26b-eecb0b786cdd"
      },
      "execution_count": 9,
      "outputs": [
        {
          "output_type": "execute_result",
          "data": {
            "text/plain": [
              "'hello'"
            ],
            "application/vnd.google.colaboratory.intrinsic+json": {
              "type": "string"
            }
          },
          "metadata": {},
          "execution_count": 9
        }
      ]
    },
    {
      "cell_type": "code",
      "source": [
        "for i in x_train[0]:\n",
        "    print(index_dic[i],end=' ')"
      ],
      "metadata": {
        "colab": {
          "base_uri": "https://localhost:8080/"
        },
        "id": "q1glkM5qvpAz",
        "outputId": "533f6467-cd02-48b3-b931-6cea8d5d52c6"
      },
      "execution_count": 10,
      "outputs": [
        {
          "output_type": "stream",
          "name": "stdout",
          "text": [
            "the as you with out themselves powerful lets loves their becomes reaching had journalist of lot from anyone to have after out atmosphere never more room titillate it so heart shows to years of every never going villaronga help moments or of every chest visual movie except her was several of enough more with is now current film as you of mine potentially unfortunately of you than him that with out themselves her get for was camp of you movie sometimes movie that with scary but pratfalls to story wonderful that in seeing in character to of 70s musicians with heart had shadows they of here that with her serious to have does when from why what have critics they is you that isn't one will very to as itself with other tricky in of seen over landed for anyone of and br show's to whether from than out themselves history he name half some br of 'n odd was two most of mean for 1 any an boat she he should is thought frog but of script you not while history he heart to real at barrel but when from one bit then have two of script their with her nobody most that with wasn't to with armed acting watch an for with heartfelt film want an "
          ]
        }
      ]
    },
    {
      "cell_type": "code",
      "source": [
        "index_dic[1], index_dic[2], index_dic[3]"
      ],
      "metadata": {
        "colab": {
          "base_uri": "https://localhost:8080/"
        },
        "id": "v0gnn9kRwDKW",
        "outputId": "d5ffab27-4182-426b-c4f5-db042afd7da1"
      },
      "execution_count": 11,
      "outputs": [
        {
          "output_type": "execute_result",
          "data": {
            "text/plain": [
              "('the', 'and', 'a')"
            ]
          },
          "metadata": {},
          "execution_count": 11
        }
      ]
    },
    {
      "cell_type": "code",
      "source": [
        "for i in range(10):\n",
        "    print(len(x_train[i]),end=' ')"
      ],
      "metadata": {
        "colab": {
          "base_uri": "https://localhost:8080/"
        },
        "id": "aIU6Jz7LwIRO",
        "outputId": "4eec4d36-bffb-4fb5-aac4-cd9c85deb653"
      },
      "execution_count": 12,
      "outputs": [
        {
          "output_type": "stream",
          "name": "stdout",
          "text": [
            "218 189 141 550 147 43 123 562 233 130 "
          ]
        }
      ]
    },
    {
      "cell_type": "code",
      "source": [
        "ls = [len(x_train[i]) for i in range(len(x_train))]\n",
        "plt.hist(ls,bins=[0,20,40,60,80,100,120,140,160,180,200,1000])\n",
        "plt.show()"
      ],
      "metadata": {
        "colab": {
          "base_uri": "https://localhost:8080/",
          "height": 430
        },
        "id": "-0QrhnfSR4ze",
        "outputId": "0e24a0e4-63aa-48d8-f572-b119e48b5821"
      },
      "execution_count": 13,
      "outputs": [
        {
          "output_type": "display_data",
          "data": {
            "text/plain": [
              "<Figure size 640x480 with 1 Axes>"
            ],
            "image/png": "[encoded data removed]"
          },
          "metadata": {}
        }
      ]
    },
    {
      "cell_type": "code",
      "source": [
        "xseq_train = pad_sequences(x_train,maxlen=200)\n",
        "xseq_test = pad_sequences(x_test,maxlen=200)"
      ],
      "metadata": {
        "id": "h7JYO10ZxRt1"
      },
      "execution_count": 4,
      "outputs": []
    },
    {
      "cell_type": "code",
      "source": [
        "|for i in range(10):\n",
        "    print(len(xseq_train[i]),end=' ')"
      ],
      "metadata": {
        "colab": {
          "base_uri": "https://localhost:8080/"
        },
        "id": "oHxZQBkPx778",
        "outputId": "0c85b71e-1b61-4f37-8aa1-cdc27dd1aa5b"
      },
      "execution_count": 15,
      "outputs": [
        {
          "output_type": "stream",
          "name": "stdout",
          "text": [
            "200 200 200 200 200 200 200 200 200 200 "
          ]
        }
      ]
    },
    {
      "cell_type": "code",
      "source": [
        "xseq_train[5]"
      ],
      "metadata": {
        "colab": {
          "base_uri": "https://localhost:8080/"
        },
        "id": "APqHT-i7yATX",
        "outputId": "3a556576-6c59-45a4-f695-c8f973081d75"
      },
      "execution_count": 16,
      "outputs": [
        {
          "output_type": "execute_result",
          "data": {
            "text/plain": [
              "array([    0,     0,     0,     0,     0,     0,     0,     0,     0,\n",
              "           0,     0,     0,     0,     0,     0,     0,     0,     0,\n",
              "           0,     0,     0,     0,     0,     0,     0,     0,     0,\n",
              "           0,     0,     0,     0,     0,     0,     0,     0,     0,\n",
              "           0,     0,     0,     0,     0,     0,     0,     0,     0,\n",
              "           0,     0,     0,     0,     0,     0,     0,     0,     0,\n",
              "           0,     0,     0,     0,     0,     0,     0,     0,     0,\n",
              "           0,     0,     0,     0,     0,     0,     0,     0,     0,\n",
              "           0,     0,     0,     0,     0,     0,     0,     0,     0,\n",
              "           0,     0,     0,     0,     0,     0,     0,     0,     0,\n",
              "           0,     0,     0,     0,     0,     0,     0,     0,     0,\n",
              "           0,     0,     0,     0,     0,     0,     0,     0,     0,\n",
              "           0,     0,     0,     0,     0,     0,     0,     0,     0,\n",
              "           0,     0,     0,     0,     0,     0,     0,     0,     0,\n",
              "           0,     0,     0,     0,     0,     0,     0,     0,     0,\n",
              "           0,     0,     0,     0,     0,     0,     0,     0,     0,\n",
              "           0,     0,     0,     0,     0,     0,     0,     0,     0,\n",
              "           0,     0,     0,     0,     1,   778,   128,    74,    12,\n",
              "         630,   163,    15,     4,  1766,  7982,  1051,     2,    32,\n",
              "          85,   156,    45,    40,   148,   139,   121,   664,   665,\n",
              "          10,    10,  1361,   173,     4,   749,     2,    16,  3804,\n",
              "           8,     4,   226,    65,    12,    43,   127,    24, 15344,\n",
              "          10,    10], dtype=int32)"
            ]
          },
          "metadata": {},
          "execution_count": 16
        }
      ]
    },
    {
      "cell_type": "code",
      "source": [
        "xseq_train.shape, xseq_test.shape"
      ],
      "metadata": {
        "colab": {
          "base_uri": "https://localhost:8080/"
        },
        "id": "rlOAQo7jyP_q",
        "outputId": "a29f4a01-6742-47e6-a9f5-d1b861b5207d"
      },
      "execution_count": 17,
      "outputs": [
        {
          "output_type": "execute_result",
          "data": {
            "text/plain": [
              "((25000, 200), (25000, 200))"
            ]
          },
          "metadata": {},
          "execution_count": 17
        }
      ]
    },
    {
      "cell_type": "code",
      "source": [
        "model = keras.Sequential()\n",
        "rnn = SimpleRNN(20,input_shape=(50,500))\n",
        "dense = Dense(1,activation='sigmoid')\n",
        "model.add(rnn)\n",
        "model.add(dense)"
      ],
      "metadata": {
        "id": "rBFwc0qhygrr"
      },
      "execution_count": 18,
      "outputs": []
    },
    {
      "cell_type": "code",
      "source": [
        "xo_train = keras.utils.to_categorical(xseq_train)\n",
        "xo_test = keras.utils.to_categorical(xseq_test)"
      ],
      "metadata": {
        "id": "o_lpPgLtzrOD"
      },
      "execution_count": null,
      "outputs": []
    },
    {
      "cell_type": "code",
      "source": [
        "xo_train.shape"
      ],
      "metadata": {
        "id": "vAIEOTnJ0NOy"
      },
      "execution_count": null,
      "outputs": []
    },
    {
      "cell_type": "code",
      "source": [
        "model.compile(loss=keras.losses.binary_crossentropy, metrics=['accuracy'])"
      ],
      "metadata": {
        "id": "3BLTO5mY1Ktj"
      },
      "execution_count": null,
      "outputs": []
    },
    {
      "cell_type": "code",
      "source": [
        "cp = keras.callbacks.EarlyStopping(patience=10, restore_best_weights=True)\n",
        "hist = model.fit(xo_train, y_train, callbacks=[cp], validation_split=0.2, epochs=100)"
      ],
      "metadata": {
        "id": "0X0jxpJx1djj"
      },
      "execution_count": null,
      "outputs": []
    },
    {
      "cell_type": "code",
      "source": [
        "model=keras.Sequential()\n",
        "em=Embedding(30000,16,input_length=200)\n",
        "rnn=SimpleRNN(20)\n",
        "dense=Dense(1,activation='sigmoid')\n",
        "model.add(em)\n",
        "model.add(rnn)\n",
        "model.add(dense)"
      ],
      "metadata": {
        "id": "QQF4eq3d12Wf"
      },
      "execution_count": 11,
      "outputs": []
    },
    {
      "cell_type": "code",
      "source": [
        "model.compile(loss=keras.losses.binary_crossentropy, metrics=['accuracy'])"
      ],
      "metadata": {
        "id": "-M9Qx00XToyx"
      },
      "execution_count": 12,
      "outputs": []
    },
    {
      "cell_type": "code",
      "source": [
        "cp = keras.callbacks.EarlyStopping(patience=20, restore_best_weights=True)\n",
        "hist = model.fit(xseq_train, y_train, callbacks=[cp], validation_split=0.2, epochs=1000)"
      ],
      "metadata": {
        "colab": {
          "base_uri": "https://localhost:8080/"
        },
        "id": "1Wih613yUM8b",
        "outputId": "837d7745-a9da-485a-d00c-32d49bf67ec9"
      },
      "execution_count": 13,
      "outputs": [
        {
          "output_type": "stream",
          "name": "stdout",
          "text": [
            "Epoch 1/1000\n",
            "625/625 [==============================] - 29s 45ms/step - loss: 0.5515 - accuracy: 0.7072 - val_loss: 0.4021 - val_accuracy: 0.8300\n",
            "Epoch 2/1000\n",
            "625/625 [==============================] - 27s 43ms/step - loss: 0.3551 - accuracy: 0.8526 - val_loss: 0.3736 - val_accuracy: 0.8360\n",
            "Epoch 3/1000\n",
            "625/625 [==============================] - 27s 43ms/step - loss: 0.2807 - accuracy: 0.8894 - val_loss: 0.3578 - val_accuracy: 0.8488\n",
            "Epoch 4/1000\n",
            "625/625 [==============================] - 27s 43ms/step - loss: 0.2325 - accuracy: 0.9102 - val_loss: 0.4206 - val_accuracy: 0.8434\n",
            "Epoch 5/1000\n",
            "625/625 [==============================] - 27s 43ms/step - loss: 0.2030 - accuracy: 0.9248 - val_loss: 0.3444 - val_accuracy: 0.8574\n",
            "Epoch 6/1000\n",
            "625/625 [==============================] - 27s 43ms/step - loss: 0.1638 - accuracy: 0.9404 - val_loss: 0.3610 - val_accuracy: 0.8610\n",
            "Epoch 7/1000\n",
            "625/625 [==============================] - 27s 43ms/step - loss: 0.1383 - accuracy: 0.9500 - val_loss: 0.4024 - val_accuracy: 0.8608\n",
            "Epoch 8/1000\n",
            "625/625 [==============================] - 27s 43ms/step - loss: 0.1077 - accuracy: 0.9613 - val_loss: 0.4305 - val_accuracy: 0.8486\n",
            "Epoch 9/1000\n",
            "625/625 [==============================] - 27s 43ms/step - loss: 0.0840 - accuracy: 0.9708 - val_loss: 0.4924 - val_accuracy: 0.8562\n",
            "Epoch 10/1000\n",
            "625/625 [==============================] - 28s 45ms/step - loss: 0.0624 - accuracy: 0.9785 - val_loss: 0.4964 - val_accuracy: 0.8462\n",
            "Epoch 11/1000\n",
            "625/625 [==============================] - 28s 45ms/step - loss: 0.0448 - accuracy: 0.9858 - val_loss: 0.6210 - val_accuracy: 0.8114\n",
            "Epoch 12/1000\n",
            "625/625 [==============================] - 27s 43ms/step - loss: 0.0307 - accuracy: 0.9906 - val_loss: 0.6297 - val_accuracy: 0.8320\n",
            "Epoch 13/1000\n",
            "625/625 [==============================] - 27s 43ms/step - loss: 0.0245 - accuracy: 0.9919 - val_loss: 0.7053 - val_accuracy: 0.8074\n",
            "Epoch 14/1000\n",
            "625/625 [==============================] - 27s 43ms/step - loss: 0.0176 - accuracy: 0.9945 - val_loss: 0.7500 - val_accuracy: 0.8244\n",
            "Epoch 15/1000\n",
            "625/625 [==============================] - 27s 43ms/step - loss: 0.0123 - accuracy: 0.9959 - val_loss: 1.0393 - val_accuracy: 0.7508\n",
            "Epoch 16/1000\n",
            "625/625 [==============================] - 27s 43ms/step - loss: 0.0114 - accuracy: 0.9966 - val_loss: 0.8150 - val_accuracy: 0.8124\n",
            "Epoch 17/1000\n",
            "625/625 [==============================] - 27s 43ms/step - loss: 0.0106 - accuracy: 0.9966 - val_loss: 0.8616 - val_accuracy: 0.8040\n",
            "Epoch 18/1000\n",
            "625/625 [==============================] - 27s 43ms/step - loss: 0.0067 - accuracy: 0.9981 - val_loss: 0.9039 - val_accuracy: 0.8060\n",
            "Epoch 19/1000\n",
            "625/625 [==============================] - 27s 43ms/step - loss: 0.0071 - accuracy: 0.9977 - val_loss: 0.9495 - val_accuracy: 0.7978\n",
            "Epoch 20/1000\n",
            "625/625 [==============================] - 27s 43ms/step - loss: 0.0072 - accuracy: 0.9979 - val_loss: 0.9149 - val_accuracy: 0.8216\n",
            "Epoch 21/1000\n",
            "625/625 [==============================] - 28s 45ms/step - loss: 0.0057 - accuracy: 0.9980 - val_loss: 0.9763 - val_accuracy: 0.8114\n",
            "Epoch 22/1000\n",
            "625/625 [==============================] - 28s 45ms/step - loss: 0.0049 - accuracy: 0.9987 - val_loss: 1.0196 - val_accuracy: 0.7964\n",
            "Epoch 23/1000\n",
            "625/625 [==============================] - 27s 43ms/step - loss: 0.0059 - accuracy: 0.9983 - val_loss: 1.1157 - val_accuracy: 0.7824\n",
            "Epoch 24/1000\n",
            "625/625 [==============================] - 27s 43ms/step - loss: 0.0051 - accuracy: 0.9987 - val_loss: 1.0586 - val_accuracy: 0.8120\n",
            "Epoch 25/1000\n",
            "625/625 [==============================] - 27s 43ms/step - loss: 0.0051 - accuracy: 0.9987 - val_loss: 1.0225 - val_accuracy: 0.8244\n"
          ]
        }
      ]
    },
    {
      "cell_type": "code",
      "source": [
        "xseq_train.shape"
      ],
      "metadata": {
        "colab": {
          "base_uri": "https://localhost:8080/"
        },
        "id": "elCNm-9oUVHC",
        "outputId": "0aa40c91-c0c5-421e-f721-aab91e20fc5c"
      },
      "execution_count": 9,
      "outputs": [
        {
          "output_type": "execute_result",
          "data": {
            "text/plain": [
              "(25000, 200)"
            ]
          },
          "metadata": {},
          "execution_count": 9
        }
      ]
    },
    {
      "cell_type": "code",
      "source": [
        "y_train.shape"
      ],
      "metadata": {
        "colab": {
          "base_uri": "https://localhost:8080/"
        },
        "id": "llB6W5LMUs7w",
        "outputId": "fa5d5828-317a-4e76-ed5a-30503c6e08b0"
      },
      "execution_count": 10,
      "outputs": [
        {
          "output_type": "execute_result",
          "data": {
            "text/plain": [
              "(25000,)"
            ]
          },
          "metadata": {},
          "execution_count": 10
        }
      ]
    },
    {
      "cell_type": "code",
      "source": [
        "plt.plot(hist['loss'],label='loss')\n",
        "plt.plot(hist['val_loss'],label='val_loss')\n",
        "plt.show()"
      ],
      "metadata": {
        "colab": {
          "base_uri": "https://localhost:8080/",
          "height": 209
        },
        "id": "OwCvVvqsUvP3",
        "outputId": "3ac46a93-a98e-43cf-a422-5e05c88cbf1a"
      },
      "execution_count": 15,
      "outputs": [
        {
          "output_type": "error",
          "ename": "TypeError",
          "evalue": "ignored",
          "traceback": [
            "\u001b[0;31m---------------------------------------------------------------------------\u001b[0m",
            "\u001b[0;31mTypeError\u001b[0m                                 Traceback (most recent call last)",
            "\u001b[0;32m<ipython-input-15-1234dbf55f3d>\u001b[0m in \u001b[0;36m<cell line: 1>\u001b[0;34m()\u001b[0m\n\u001b[0;32m----> 1\u001b[0;31m \u001b[0mplt\u001b[0m\u001b[0;34m.\u001b[0m\u001b[0mplot\u001b[0m\u001b[0;34m(\u001b[0m\u001b[0mhist\u001b[0m\u001b[0;34m[\u001b[0m\u001b[0;34m'loss'\u001b[0m\u001b[0;34m]\u001b[0m\u001b[0;34m,\u001b[0m\u001b[0mlabel\u001b[0m\u001b[0;34m=\u001b[0m\u001b[0;34m'loss'\u001b[0m\u001b[0;34m)\u001b[0m\u001b[0;34m\u001b[0m\u001b[0;34m\u001b[0m\u001b[0m\n\u001b[0m\u001b[1;32m      2\u001b[0m \u001b[0mplt\u001b[0m\u001b[0;34m.\u001b[0m\u001b[0mplot\u001b[0m\u001b[0;34m(\u001b[0m\u001b[0mhist\u001b[0m\u001b[0;34m[\u001b[0m\u001b[0;34m'val_loss'\u001b[0m\u001b[0;34m]\u001b[0m\u001b[0;34m,\u001b[0m\u001b[0mlabel\u001b[0m\u001b[0;34m=\u001b[0m\u001b[0;34m'val_loss'\u001b[0m\u001b[0;34m)\u001b[0m\u001b[0;34m\u001b[0m\u001b[0;34m\u001b[0m\u001b[0m\n\u001b[1;32m      3\u001b[0m \u001b[0mplt\u001b[0m\u001b[0;34m.\u001b[0m\u001b[0mshow\u001b[0m\u001b[0;34m(\u001b[0m\u001b[0;34m)\u001b[0m\u001b[0;34m\u001b[0m\u001b[0;34m\u001b[0m\u001b[0m\n",
            "\u001b[0;31mTypeError\u001b[0m: 'History' object is not subscriptable"
          ]
        }
      ]
    },
    {
      "cell_type": "code",
      "source": [
        "model=keras.Sequential()\n",
        "em=Embedding(30000,16,input_length=200)\n",
        "rnn=SimpleRNN(20)\n",
        "dense=Dense(1,activation='sigmoid')\n",
        "model.add(em)\n",
        "model.add(rnn)\n",
        "model.add(keras.layers.Dropout(0.3))\n",
        "model.add(dense)\n",
        "model.compile(loss=keras.losses.binary_crossentropy, metrics=['accuracy'])"
      ],
      "metadata": {
        "id": "fXtPUkRRZOUz"
      },
      "execution_count": 8,
      "outputs": []
    },
    {
      "cell_type": "code",
      "source": [
        "model.compile(loss=keras.losses.binary_crossentropy, metrics=['accuracy'])\n",
        "cp = keras.callbacks.EarlyStopping(patience=10, restore_best_weights=True)\n",
        "hist = model.fit(xseq_train, y_train, callbacks=[cp], validation_split=0.2, epochs=1000)"
      ],
      "metadata": {
        "colab": {
          "base_uri": "https://localhost:8080/",
          "height": 577
        },
        "id": "dJOtcIgmZXcS",
        "outputId": "4ca776a7-e7ab-40cb-c859-8df731c74456"
      },
      "execution_count": 7,
      "outputs": [
        {
          "output_type": "stream",
          "name": "stdout",
          "text": [
            "Epoch 1/1000\n",
            "625/625 [==============================] - 34s 52ms/step - loss: 0.5943 - accuracy: 0.6592 - val_loss: 0.4226 - val_accuracy: 0.8194\n",
            "Epoch 2/1000\n",
            "625/625 [==============================] - 27s 44ms/step - loss: 0.3667 - accuracy: 0.8485 - val_loss: 0.3920 - val_accuracy: 0.8240\n",
            "Epoch 3/1000\n",
            "625/625 [==============================] - 28s 45ms/step - loss: 0.2935 - accuracy: 0.8861 - val_loss: 0.4221 - val_accuracy: 0.8160\n",
            "Epoch 4/1000\n",
            "625/625 [==============================] - 29s 46ms/step - loss: 0.2474 - accuracy: 0.9085 - val_loss: 0.3493 - val_accuracy: 0.8672\n",
            "Epoch 5/1000\n",
            "625/625 [==============================] - 30s 48ms/step - loss: 0.2130 - accuracy: 0.9225 - val_loss: 0.3909 - val_accuracy: 0.8584\n",
            "Epoch 6/1000\n",
            "281/625 [============>.................] - ETA: 14s - loss: 0.1654 - accuracy: 0.9408"
          ]
        },
        {
          "output_type": "error",
          "ename": "KeyboardInterrupt",
          "evalue": "ignored",
          "traceback": [
            "\u001b[0;31m---------------------------------------------------------------------------\u001b[0m",
            "\u001b[0;31mKeyboardInterrupt\u001b[0m                         Traceback (most recent call last)",
            "\u001b[0;32m<ipython-input-7-ebb30bf3b5c5>\u001b[0m in \u001b[0;36m<cell line: 3>\u001b[0;34m()\u001b[0m\n\u001b[1;32m      1\u001b[0m \u001b[0mmodel\u001b[0m\u001b[0;34m.\u001b[0m\u001b[0mcompile\u001b[0m\u001b[0;34m(\u001b[0m\u001b[0mloss\u001b[0m\u001b[0;34m=\u001b[0m\u001b[0mkeras\u001b[0m\u001b[0;34m.\u001b[0m\u001b[0mlosses\u001b[0m\u001b[0;34m.\u001b[0m\u001b[0mbinary_crossentropy\u001b[0m\u001b[0;34m,\u001b[0m \u001b[0mmetrics\u001b[0m\u001b[0;34m=\u001b[0m\u001b[0;34m[\u001b[0m\u001b[0;34m'accuracy'\u001b[0m\u001b[0;34m]\u001b[0m\u001b[0;34m)\u001b[0m\u001b[0;34m\u001b[0m\u001b[0;34m\u001b[0m\u001b[0m\n\u001b[1;32m      2\u001b[0m \u001b[0mcp\u001b[0m \u001b[0;34m=\u001b[0m \u001b[0mkeras\u001b[0m\u001b[0;34m.\u001b[0m\u001b[0mcallbacks\u001b[0m\u001b[0;34m.\u001b[0m\u001b[0mEarlyStopping\u001b[0m\u001b[0;34m(\u001b[0m\u001b[0mpatience\u001b[0m\u001b[0;34m=\u001b[0m\u001b[0;36m10\u001b[0m\u001b[0;34m,\u001b[0m \u001b[0mrestore_best_weights\u001b[0m\u001b[0;34m=\u001b[0m\u001b[0;32mTrue\u001b[0m\u001b[0;34m)\u001b[0m\u001b[0;34m\u001b[0m\u001b[0;34m\u001b[0m\u001b[0m\n\u001b[0;32m----> 3\u001b[0;31m \u001b[0mhist\u001b[0m \u001b[0;34m=\u001b[0m \u001b[0mmodel\u001b[0m\u001b[0;34m.\u001b[0m\u001b[0mfit\u001b[0m\u001b[0;34m(\u001b[0m\u001b[0mxseq_train\u001b[0m\u001b[0;34m,\u001b[0m \u001b[0my_train\u001b[0m\u001b[0;34m,\u001b[0m \u001b[0mcallbacks\u001b[0m\u001b[0;34m=\u001b[0m\u001b[0;34m[\u001b[0m\u001b[0mcp\u001b[0m\u001b[0;34m]\u001b[0m\u001b[0;34m,\u001b[0m \u001b[0mvalidation_split\u001b[0m\u001b[0;34m=\u001b[0m\u001b[0;36m0.2\u001b[0m\u001b[0;34m,\u001b[0m \u001b[0mepochs\u001b[0m\u001b[0;34m=\u001b[0m\u001b[0;36m1000\u001b[0m\u001b[0;34m)\u001b[0m\u001b[0;34m\u001b[0m\u001b[0;34m\u001b[0m\u001b[0m\n\u001b[0m",
            "\u001b[0;32m/usr/local/lib/python3.10/dist-packages/keras/utils/traceback_utils.py\u001b[0m in \u001b[0;36merror_handler\u001b[0;34m(*args, **kwargs)\u001b[0m\n\u001b[1;32m     63\u001b[0m         \u001b[0mfiltered_tb\u001b[0m \u001b[0;34m=\u001b[0m \u001b[0;32mNone\u001b[0m\u001b[0;34m\u001b[0m\u001b[0;34m\u001b[0m\u001b[0m\n\u001b[1;32m     64\u001b[0m         \u001b[0;32mtry\u001b[0m\u001b[0;34m:\u001b[0m\u001b[0;34m\u001b[0m\u001b[0;34m\u001b[0m\u001b[0m\n\u001b[0;32m---> 65\u001b[0;31m             \u001b[0;32mreturn\u001b[0m \u001b[0mfn\u001b[0m\u001b[0;34m(\u001b[0m\u001b[0;34m*\u001b[0m\u001b[0margs\u001b[0m\u001b[0;34m,\u001b[0m \u001b[0;34m**\u001b[0m\u001b[0mkwargs\u001b[0m\u001b[0;34m)\u001b[0m\u001b[0;34m\u001b[0m\u001b[0;34m\u001b[0m\u001b[0m\n\u001b[0m\u001b[1;32m     66\u001b[0m         \u001b[0;32mexcept\u001b[0m \u001b[0mException\u001b[0m \u001b[0;32mas\u001b[0m \u001b[0me\u001b[0m\u001b[0;34m:\u001b[0m\u001b[0;34m\u001b[0m\u001b[0;34m\u001b[0m\u001b[0m\n\u001b[1;32m     67\u001b[0m             \u001b[0mfiltered_tb\u001b[0m \u001b[0;34m=\u001b[0m \u001b[0m_process_traceback_frames\u001b[0m\u001b[0;34m(\u001b[0m\u001b[0me\u001b[0m\u001b[0;34m.\u001b[0m\u001b[0m__traceback__\u001b[0m\u001b[0;34m)\u001b[0m\u001b[0;34m\u001b[0m\u001b[0;34m\u001b[0m\u001b[0m\n",
            "\u001b[0;32m/usr/local/lib/python3.10/dist-packages/keras/engine/training.py\u001b[0m in \u001b[0;36mfit\u001b[0;34m(self, x, y, batch_size, epochs, verbose, callbacks, validation_split, validation_data, shuffle, class_weight, sample_weight, initial_epoch, steps_per_epoch, validation_steps, validation_batch_size, validation_freq, max_queue_size, workers, use_multiprocessing)\u001b[0m\n\u001b[1;32m   1683\u001b[0m                         ):\n\u001b[1;32m   1684\u001b[0m                             \u001b[0mcallbacks\u001b[0m\u001b[0;34m.\u001b[0m\u001b[0mon_train_batch_begin\u001b[0m\u001b[0;34m(\u001b[0m\u001b[0mstep\u001b[0m\u001b[0;34m)\u001b[0m\u001b[0;34m\u001b[0m\u001b[0;34m\u001b[0m\u001b[0m\n\u001b[0;32m-> 1685\u001b[0;31m                             \u001b[0mtmp_logs\u001b[0m \u001b[0;34m=\u001b[0m \u001b[0mself\u001b[0m\u001b[0;34m.\u001b[0m\u001b[0mtrain_function\u001b[0m\u001b[0;34m(\u001b[0m\u001b[0miterator\u001b[0m\u001b[0;34m)\u001b[0m\u001b[0;34m\u001b[0m\u001b[0;34m\u001b[0m\u001b[0m\n\u001b[0m\u001b[1;32m   1686\u001b[0m                             \u001b[0;32mif\u001b[0m \u001b[0mdata_handler\u001b[0m\u001b[0;34m.\u001b[0m\u001b[0mshould_sync\u001b[0m\u001b[0;34m:\u001b[0m\u001b[0;34m\u001b[0m\u001b[0;34m\u001b[0m\u001b[0m\n\u001b[1;32m   1687\u001b[0m                                 \u001b[0mcontext\u001b[0m\u001b[0;34m.\u001b[0m\u001b[0masync_wait\u001b[0m\u001b[0;34m(\u001b[0m\u001b[0;34m)\u001b[0m\u001b[0;34m\u001b[0m\u001b[0;34m\u001b[0m\u001b[0m\n",
            "\u001b[0;32m/usr/local/lib/python3.10/dist-packages/tensorflow/python/util/traceback_utils.py\u001b[0m in \u001b[0;36merror_handler\u001b[0;34m(*args, **kwargs)\u001b[0m\n\u001b[1;32m    148\u001b[0m     \u001b[0mfiltered_tb\u001b[0m \u001b[0;34m=\u001b[0m \u001b[0;32mNone\u001b[0m\u001b[0;34m\u001b[0m\u001b[0;34m\u001b[0m\u001b[0m\n\u001b[1;32m    149\u001b[0m     \u001b[0;32mtry\u001b[0m\u001b[0;34m:\u001b[0m\u001b[0;34m\u001b[0m\u001b[0;34m\u001b[0m\u001b[0m\n\u001b[0;32m--> 150\u001b[0;31m       \u001b[0;32mreturn\u001b[0m \u001b[0mfn\u001b[0m\u001b[0;34m(\u001b[0m\u001b[0;34m*\u001b[0m\u001b[0margs\u001b[0m\u001b[0;34m,\u001b[0m \u001b[0;34m**\u001b[0m\u001b[0mkwargs\u001b[0m\u001b[0;34m)\u001b[0m\u001b[0;34m\u001b[0m\u001b[0;34m\u001b[0m\u001b[0m\n\u001b[0m\u001b[1;32m    151\u001b[0m     \u001b[0;32mexcept\u001b[0m \u001b[0mException\u001b[0m \u001b[0;32mas\u001b[0m \u001b[0me\u001b[0m\u001b[0;34m:\u001b[0m\u001b[0;34m\u001b[0m\u001b[0;34m\u001b[0m\u001b[0m\n\u001b[1;32m    152\u001b[0m       \u001b[0mfiltered_tb\u001b[0m \u001b[0;34m=\u001b[0m \u001b[0m_process_traceback_frames\u001b[0m\u001b[0;34m(\u001b[0m\u001b[0me\u001b[0m\u001b[0;34m.\u001b[0m\u001b[0m__traceback__\u001b[0m\u001b[0;34m)\u001b[0m\u001b[0;34m\u001b[0m\u001b[0;34m\u001b[0m\u001b[0m\n",
            "\u001b[0;32m/usr/local/lib/python3.10/dist-packages/tensorflow/python/eager/polymorphic_function/polymorphic_function.py\u001b[0m in \u001b[0;36m__call__\u001b[0;34m(self, *args, **kwds)\u001b[0m\n\u001b[1;32m    892\u001b[0m \u001b[0;34m\u001b[0m\u001b[0m\n\u001b[1;32m    893\u001b[0m       \u001b[0;32mwith\u001b[0m \u001b[0mOptionalXlaContext\u001b[0m\u001b[0;34m(\u001b[0m\u001b[0mself\u001b[0m\u001b[0;34m.\u001b[0m\u001b[0m_jit_compile\u001b[0m\u001b[0;34m)\u001b[0m\u001b[0;34m:\u001b[0m\u001b[0;34m\u001b[0m\u001b[0;34m\u001b[0m\u001b[0m\n\u001b[0;32m--> 894\u001b[0;31m         \u001b[0mresult\u001b[0m \u001b[0;34m=\u001b[0m \u001b[0mself\u001b[0m\u001b[0;34m.\u001b[0m\u001b[0m_call\u001b[0m\u001b[0;34m(\u001b[0m\u001b[0;34m*\u001b[0m\u001b[0margs\u001b[0m\u001b[0;34m,\u001b[0m \u001b[0;34m**\u001b[0m\u001b[0mkwds\u001b[0m\u001b[0;34m)\u001b[0m\u001b[0;34m\u001b[0m\u001b[0;34m\u001b[0m\u001b[0m\n\u001b[0m\u001b[1;32m    895\u001b[0m \u001b[0;34m\u001b[0m\u001b[0m\n\u001b[1;32m    896\u001b[0m       \u001b[0mnew_tracing_count\u001b[0m \u001b[0;34m=\u001b[0m \u001b[0mself\u001b[0m\u001b[0;34m.\u001b[0m\u001b[0mexperimental_get_tracing_count\u001b[0m\u001b[0;34m(\u001b[0m\u001b[0;34m)\u001b[0m\u001b[0;34m\u001b[0m\u001b[0;34m\u001b[0m\u001b[0m\n",
            "\u001b[0;32m/usr/local/lib/python3.10/dist-packages/tensorflow/python/eager/polymorphic_function/polymorphic_function.py\u001b[0m in \u001b[0;36m_call\u001b[0;34m(self, *args, **kwds)\u001b[0m\n\u001b[1;32m    924\u001b[0m       \u001b[0;31m# In this case we have created variables on the first call, so we run the\u001b[0m\u001b[0;34m\u001b[0m\u001b[0;34m\u001b[0m\u001b[0m\n\u001b[1;32m    925\u001b[0m       \u001b[0;31m# defunned version which is guaranteed to never create variables.\u001b[0m\u001b[0;34m\u001b[0m\u001b[0;34m\u001b[0m\u001b[0m\n\u001b[0;32m--> 926\u001b[0;31m       \u001b[0;32mreturn\u001b[0m \u001b[0mself\u001b[0m\u001b[0;34m.\u001b[0m\u001b[0m_no_variable_creation_fn\u001b[0m\u001b[0;34m(\u001b[0m\u001b[0;34m*\u001b[0m\u001b[0margs\u001b[0m\u001b[0;34m,\u001b[0m \u001b[0;34m**\u001b[0m\u001b[0mkwds\u001b[0m\u001b[0;34m)\u001b[0m  \u001b[0;31m# pylint: disable=not-callable\u001b[0m\u001b[0;34m\u001b[0m\u001b[0;34m\u001b[0m\u001b[0m\n\u001b[0m\u001b[1;32m    927\u001b[0m     \u001b[0;32melif\u001b[0m \u001b[0mself\u001b[0m\u001b[0;34m.\u001b[0m\u001b[0m_variable_creation_fn\u001b[0m \u001b[0;32mis\u001b[0m \u001b[0;32mnot\u001b[0m \u001b[0;32mNone\u001b[0m\u001b[0;34m:\u001b[0m\u001b[0;34m\u001b[0m\u001b[0;34m\u001b[0m\u001b[0m\n\u001b[1;32m    928\u001b[0m       \u001b[0;31m# Release the lock early so that multiple threads can perform the call\u001b[0m\u001b[0;34m\u001b[0m\u001b[0;34m\u001b[0m\u001b[0m\n",
            "\u001b[0;32m/usr/local/lib/python3.10/dist-packages/tensorflow/python/eager/polymorphic_function/tracing_compiler.py\u001b[0m in \u001b[0;36m__call__\u001b[0;34m(self, *args, **kwargs)\u001b[0m\n\u001b[1;32m    141\u001b[0m       (concrete_function,\n\u001b[1;32m    142\u001b[0m        filtered_flat_args) = self._maybe_define_function(args, kwargs)\n\u001b[0;32m--> 143\u001b[0;31m     return concrete_function._call_flat(\n\u001b[0m\u001b[1;32m    144\u001b[0m         filtered_flat_args, captured_inputs=concrete_function.captured_inputs)  # pylint: disable=protected-access\n\u001b[1;32m    145\u001b[0m \u001b[0;34m\u001b[0m\u001b[0m\n",
            "\u001b[0;32m/usr/local/lib/python3.10/dist-packages/tensorflow/python/eager/polymorphic_function/monomorphic_function.py\u001b[0m in \u001b[0;36m_call_flat\u001b[0;34m(self, args, captured_inputs, cancellation_manager)\u001b[0m\n\u001b[1;32m   1755\u001b[0m         and executing_eagerly):\n\u001b[1;32m   1756\u001b[0m       \u001b[0;31m# No tape is watching; skip to running the function.\u001b[0m\u001b[0;34m\u001b[0m\u001b[0;34m\u001b[0m\u001b[0m\n\u001b[0;32m-> 1757\u001b[0;31m       return self._build_call_outputs(self._inference_function.call(\n\u001b[0m\u001b[1;32m   1758\u001b[0m           ctx, args, cancellation_manager=cancellation_manager))\n\u001b[1;32m   1759\u001b[0m     forward_backward = self._select_forward_and_backward_functions(\n",
            "\u001b[0;32m/usr/local/lib/python3.10/dist-packages/tensorflow/python/eager/polymorphic_function/monomorphic_function.py\u001b[0m in \u001b[0;36mcall\u001b[0;34m(self, ctx, args, cancellation_manager)\u001b[0m\n\u001b[1;32m    379\u001b[0m       \u001b[0;32mwith\u001b[0m \u001b[0m_InterpolateFunctionError\u001b[0m\u001b[0;34m(\u001b[0m\u001b[0mself\u001b[0m\u001b[0;34m)\u001b[0m\u001b[0;34m:\u001b[0m\u001b[0;34m\u001b[0m\u001b[0;34m\u001b[0m\u001b[0m\n\u001b[1;32m    380\u001b[0m         \u001b[0;32mif\u001b[0m \u001b[0mcancellation_manager\u001b[0m \u001b[0;32mis\u001b[0m \u001b[0;32mNone\u001b[0m\u001b[0;34m:\u001b[0m\u001b[0;34m\u001b[0m\u001b[0;34m\u001b[0m\u001b[0m\n\u001b[0;32m--> 381\u001b[0;31m           outputs = execute.execute(\n\u001b[0m\u001b[1;32m    382\u001b[0m               \u001b[0mstr\u001b[0m\u001b[0;34m(\u001b[0m\u001b[0mself\u001b[0m\u001b[0;34m.\u001b[0m\u001b[0msignature\u001b[0m\u001b[0;34m.\u001b[0m\u001b[0mname\u001b[0m\u001b[0;34m)\u001b[0m\u001b[0;34m,\u001b[0m\u001b[0;34m\u001b[0m\u001b[0;34m\u001b[0m\u001b[0m\n\u001b[1;32m    383\u001b[0m               \u001b[0mnum_outputs\u001b[0m\u001b[0;34m=\u001b[0m\u001b[0mself\u001b[0m\u001b[0;34m.\u001b[0m\u001b[0m_num_outputs\u001b[0m\u001b[0;34m,\u001b[0m\u001b[0;34m\u001b[0m\u001b[0;34m\u001b[0m\u001b[0m\n",
            "\u001b[0;32m/usr/local/lib/python3.10/dist-packages/tensorflow/python/eager/execute.py\u001b[0m in \u001b[0;36mquick_execute\u001b[0;34m(op_name, num_outputs, inputs, attrs, ctx, name)\u001b[0m\n\u001b[1;32m     50\u001b[0m   \u001b[0;32mtry\u001b[0m\u001b[0;34m:\u001b[0m\u001b[0;34m\u001b[0m\u001b[0;34m\u001b[0m\u001b[0m\n\u001b[1;32m     51\u001b[0m     \u001b[0mctx\u001b[0m\u001b[0;34m.\u001b[0m\u001b[0mensure_initialized\u001b[0m\u001b[0;34m(\u001b[0m\u001b[0;34m)\u001b[0m\u001b[0;34m\u001b[0m\u001b[0;34m\u001b[0m\u001b[0m\n\u001b[0;32m---> 52\u001b[0;31m     tensors = pywrap_tfe.TFE_Py_Execute(ctx._handle, device_name, op_name,\n\u001b[0m\u001b[1;32m     53\u001b[0m                                         inputs, attrs, num_outputs)\n\u001b[1;32m     54\u001b[0m   \u001b[0;32mexcept\u001b[0m \u001b[0mcore\u001b[0m\u001b[0;34m.\u001b[0m\u001b[0m_NotOkStatusException\u001b[0m \u001b[0;32mas\u001b[0m \u001b[0me\u001b[0m\u001b[0;34m:\u001b[0m\u001b[0;34m\u001b[0m\u001b[0;34m\u001b[0m\u001b[0m\n",
            "\u001b[0;31mKeyboardInterrupt\u001b[0m: "
          ]
        }
      ]
    },
    {
      "cell_type": "code",
      "source": [
        "tl=len(xseq_train)\n",
        "for i in range(2500):\n",
        "    xtemp=xseq_train[i*10:(i+1)*10]\n",
        "    xo_train=keras.utils.to_categorical(xtemp,num_classes=30000)\n",
        "    yo_train=y_train[i*10:(i+1)*10]"
      ],
      "metadata": {
        "id": "A_Ml_PILd26D"
      },
      "execution_count": null,
      "outputs": []
    },
    {
      "cell_type": "code",
      "source": [
        "for e in range(10):\n",
        "  print(\"###e:\",e+1)\n",
        "  for i in range(2500):\n",
        "    xtemp = xseq_train[i*10:(i+1)*10]\n",
        "    xo_train = keras.utils.to_categorical(xtemp,\n",
        "                                        num_classes=30000)\n",
        "    yo_train = y_train[i*10:(i+1)*10]\n",
        "    model.fit(xo_train,yo_train,validation_split=0.1)\n",
        "    del xo_train"
      ],
      "metadata": {
        "colab": {
          "base_uri": "https://localhost:8080/",
          "height": 795
        },
        "id": "srzIrHhag9WT",
        "outputId": "59d496eb-dd45-42fd-85b3-d5583b55704a"
      },
      "execution_count": 9,
      "outputs": [
        {
          "output_type": "stream",
          "name": "stdout",
          "text": [
            "###e: 1\n"
          ]
        },
        {
          "output_type": "error",
          "ename": "ValueError",
          "evalue": "ignored",
          "traceback": [
            "\u001b[0;31m---------------------------------------------------------------------------\u001b[0m",
            "\u001b[0;31mValueError\u001b[0m                                Traceback (most recent call last)",
            "\u001b[0;32m<ipython-input-9-5ce21886fd38>\u001b[0m in \u001b[0;36m<cell line: 1>\u001b[0;34m()\u001b[0m\n\u001b[1;32m      6\u001b[0m                                         num_classes=30000)\n\u001b[1;32m      7\u001b[0m     \u001b[0myo_train\u001b[0m \u001b[0;34m=\u001b[0m \u001b[0my_train\u001b[0m\u001b[0;34m[\u001b[0m\u001b[0mi\u001b[0m\u001b[0;34m*\u001b[0m\u001b[0;36m10\u001b[0m\u001b[0;34m:\u001b[0m\u001b[0;34m(\u001b[0m\u001b[0mi\u001b[0m\u001b[0;34m+\u001b[0m\u001b[0;36m1\u001b[0m\u001b[0;34m)\u001b[0m\u001b[0;34m*\u001b[0m\u001b[0;36m10\u001b[0m\u001b[0;34m]\u001b[0m\u001b[0;34m\u001b[0m\u001b[0;34m\u001b[0m\u001b[0m\n\u001b[0;32m----> 8\u001b[0;31m     \u001b[0mmodel\u001b[0m\u001b[0;34m.\u001b[0m\u001b[0mfit\u001b[0m\u001b[0;34m(\u001b[0m\u001b[0mxo_train\u001b[0m\u001b[0;34m,\u001b[0m\u001b[0myo_train\u001b[0m\u001b[0;34m,\u001b[0m\u001b[0mvalidation_split\u001b[0m\u001b[0;34m=\u001b[0m\u001b[0;36m0.1\u001b[0m\u001b[0;34m)\u001b[0m\u001b[0;34m\u001b[0m\u001b[0;34m\u001b[0m\u001b[0m\n\u001b[0m\u001b[1;32m      9\u001b[0m     \u001b[0;32mdel\u001b[0m \u001b[0mxo_train\u001b[0m\u001b[0;34m\u001b[0m\u001b[0;34m\u001b[0m\u001b[0m\n",
            "\u001b[0;32m/usr/local/lib/python3.10/dist-packages/keras/utils/traceback_utils.py\u001b[0m in \u001b[0;36merror_handler\u001b[0;34m(*args, **kwargs)\u001b[0m\n\u001b[1;32m     68\u001b[0m             \u001b[0;31m# To get the full stack trace, call:\u001b[0m\u001b[0;34m\u001b[0m\u001b[0;34m\u001b[0m\u001b[0m\n\u001b[1;32m     69\u001b[0m             \u001b[0;31m# `tf.debugging.disable_traceback_filtering()`\u001b[0m\u001b[0;34m\u001b[0m\u001b[0;34m\u001b[0m\u001b[0m\n\u001b[0;32m---> 70\u001b[0;31m             \u001b[0;32mraise\u001b[0m \u001b[0me\u001b[0m\u001b[0;34m.\u001b[0m\u001b[0mwith_traceback\u001b[0m\u001b[0;34m(\u001b[0m\u001b[0mfiltered_tb\u001b[0m\u001b[0;34m)\u001b[0m \u001b[0;32mfrom\u001b[0m \u001b[0;32mNone\u001b[0m\u001b[0;34m\u001b[0m\u001b[0;34m\u001b[0m\u001b[0m\n\u001b[0m\u001b[1;32m     71\u001b[0m         \u001b[0;32mfinally\u001b[0m\u001b[0;34m:\u001b[0m\u001b[0;34m\u001b[0m\u001b[0;34m\u001b[0m\u001b[0m\n\u001b[1;32m     72\u001b[0m             \u001b[0;32mdel\u001b[0m \u001b[0mfiltered_tb\u001b[0m\u001b[0;34m\u001b[0m\u001b[0;34m\u001b[0m\u001b[0m\n",
            "\u001b[0;32m/usr/local/lib/python3.10/dist-packages/keras/engine/training.py\u001b[0m in \u001b[0;36mtf__train_function\u001b[0;34m(iterator)\u001b[0m\n\u001b[1;32m     13\u001b[0m                 \u001b[0;32mtry\u001b[0m\u001b[0;34m:\u001b[0m\u001b[0;34m\u001b[0m\u001b[0;34m\u001b[0m\u001b[0m\n\u001b[1;32m     14\u001b[0m                     \u001b[0mdo_return\u001b[0m \u001b[0;34m=\u001b[0m \u001b[0;32mTrue\u001b[0m\u001b[0;34m\u001b[0m\u001b[0;34m\u001b[0m\u001b[0m\n\u001b[0;32m---> 15\u001b[0;31m                     \u001b[0mretval_\u001b[0m \u001b[0;34m=\u001b[0m \u001b[0mag__\u001b[0m\u001b[0;34m.\u001b[0m\u001b[0mconverted_call\u001b[0m\u001b[0;34m(\u001b[0m\u001b[0mag__\u001b[0m\u001b[0;34m.\u001b[0m\u001b[0mld\u001b[0m\u001b[0;34m(\u001b[0m\u001b[0mstep_function\u001b[0m\u001b[0;34m)\u001b[0m\u001b[0;34m,\u001b[0m \u001b[0;34m(\u001b[0m\u001b[0mag__\u001b[0m\u001b[0;34m.\u001b[0m\u001b[0mld\u001b[0m\u001b[0;34m(\u001b[0m\u001b[0mself\u001b[0m\u001b[0;34m)\u001b[0m\u001b[0;34m,\u001b[0m \u001b[0mag__\u001b[0m\u001b[0;34m.\u001b[0m\u001b[0mld\u001b[0m\u001b[0;34m(\u001b[0m\u001b[0miterator\u001b[0m\u001b[0;34m)\u001b[0m\u001b[0;34m)\u001b[0m\u001b[0;34m,\u001b[0m \u001b[0;32mNone\u001b[0m\u001b[0;34m,\u001b[0m \u001b[0mfscope\u001b[0m\u001b[0;34m)\u001b[0m\u001b[0;34m\u001b[0m\u001b[0;34m\u001b[0m\u001b[0m\n\u001b[0m\u001b[1;32m     16\u001b[0m                 \u001b[0;32mexcept\u001b[0m\u001b[0;34m:\u001b[0m\u001b[0;34m\u001b[0m\u001b[0;34m\u001b[0m\u001b[0m\n\u001b[1;32m     17\u001b[0m                     \u001b[0mdo_return\u001b[0m \u001b[0;34m=\u001b[0m \u001b[0;32mFalse\u001b[0m\u001b[0;34m\u001b[0m\u001b[0;34m\u001b[0m\u001b[0m\n",
            "\u001b[0;31mValueError\u001b[0m: in user code:\n\n    File \"/usr/local/lib/python3.10/dist-packages/keras/engine/training.py\", line 1284, in train_function  *\n        return step_function(self, iterator)\n    File \"/usr/local/lib/python3.10/dist-packages/keras/engine/training.py\", line 1268, in step_function  **\n        outputs = model.distribute_strategy.run(run_step, args=(data,))\n    File \"/usr/local/lib/python3.10/dist-packages/keras/engine/training.py\", line 1249, in run_step  **\n        outputs = model.train_step(data)\n    File \"/usr/local/lib/python3.10/dist-packages/keras/engine/training.py\", line 1050, in train_step\n        y_pred = self(x, training=True)\n    File \"/usr/local/lib/python3.10/dist-packages/keras/utils/traceback_utils.py\", line 70, in error_handler\n        raise e.with_traceback(filtered_tb) from None\n    File \"/usr/local/lib/python3.10/dist-packages/keras/engine/input_spec.py\", line 235, in assert_input_compatibility\n        raise ValueError(\n\n    ValueError: Exception encountered when calling layer 'sequential_1' (type Sequential).\n    \n    Input 0 of layer \"simple_rnn_1\" is incompatible with the layer: expected ndim=3, found ndim=4. Full shape received: (None, 200, 30000, 16)\n    \n    Call arguments received by layer 'sequential_1' (type Sequential):\n      • inputs=tf.Tensor(shape=(None, 200, 30000), dtype=float32)\n      • training=True\n      • mask=None\n"
          ]
        }
      ]
    },
    {
      "cell_type": "code",
      "source": [
        "import numpy as np\n",
        "import tensorflow as tf\n",
        "from tensorflow import keras\n",
        "from keras.layers import Input, Dense, SimpleRNN,Dropout\n",
        "from keras.layers import Embedding\n",
        "from keras import models\n",
        "from keras.datasets import imdb\n",
        "from keras.utils import pad_sequences\n",
        "import gc\n",
        "\n",
        "(x_train,y_train),(x_test,y_test) = imdb.load_data(num_words=30000)\n",
        "xseq_train = pad_sequences(x_train,maxlen=150)\n",
        "xseq_test = pad_sequences(x_test,maxlen=150)\n",
        "\n",
        "model = keras.Sequential()\n",
        "rnn = SimpleRNN(20,input_shape=(150,30000))\n",
        "drop = Dropout(0.6)\n",
        "dense = Dense(1,activation='sigmoid')\n",
        "model.add(rnn)\n",
        "model.add(drop)\n",
        "model.add(dense)\n",
        "model.compile(loss = keras.losses.binary_crossentropy)\n",
        "es = keras.callbacks.EarlyStopping(patience=10,\n",
        "                                   restore_best_weights=True)\n",
        "cp = keras.callbacks.ModelCheckpoint('cp.h5',save_best_only=True)\n",
        "\n",
        "for i in range(250):\n",
        "  print(i,end=' ')\n",
        "  xtemp = xseq_train[i*100:(i+1)*100]\n",
        "  xo_train = keras.utils.to_categorical(xtemp,\n",
        "                                        num_classes=30000)\n",
        "  yo_train = y_train[i*100:(i+1)*100]\n",
        "  model.fit(xo_train,yo_train,validation_split=0.1,verbose=0)\n",
        "  del xo_train\n",
        "  print(gc.get_count())\n",
        "  gc.collect()\n",
        "i=0\n",
        "xo_temp = xseq_test[i*100:(i+1)*100]\n",
        "yo_test = y_test[i*100:(i+1)*100]\n",
        "model.evaluate(xo_temp,yo_test)"
      ],
      "metadata": {
        "colab": {
          "base_uri": "https://localhost:8080/",
          "height": 1000
        },
        "id": "kaR-BSKng-G_",
        "outputId": "f3e1f112-79ec-46a8-cb22-9c57cc5ae615"
      },
      "execution_count": 10,
      "outputs": [
        {
          "output_type": "stream",
          "name": "stdout",
          "text": [
            "0 (137, 8, 15)\n",
            "1 (99, 3, 0)\n",
            "2 (121, 3, 0)\n",
            "3 (109, 3, 0)\n",
            "4 (108, 3, 0)\n",
            "5 (84, 3, 0)\n",
            "6 (242, 3, 0)\n",
            "7 (123, 3, 0)\n",
            "8 (121, 3, 0)\n",
            "9 (75, 3, 0)\n",
            "10 (73, 3, 0)\n",
            "11 (114, 3, 0)\n",
            "12 (112, 3, 0)\n",
            "13 (75, 3, 0)\n",
            "14 (63, 3, 0)\n",
            "15 (73, 3, 0)\n",
            "16 (116, 3, 0)\n",
            "17 (110, 3, 0)\n",
            "18 (104, 3, 0)\n",
            "19 (108, 3, 0)\n",
            "20 (65, 3, 0)\n",
            "21 (78, 3, 0)\n",
            "22 (101, 3, 0)\n",
            "23 (240, 3, 0)\n",
            "24 (114, 3, 0)\n",
            "25 (86, 3, 0)\n",
            "26 (73, 3, 0)\n",
            "27 (79, 3, 0)\n",
            "28 (242, 3, 0)\n",
            "29 (327, 3, 0)\n",
            "30 (56, 3, 0)\n",
            "31 (53, 3, 0)\n",
            "32 (80, 3, 0)\n",
            "33 (108, 3, 0)\n",
            "34 (116, 3, 0)\n",
            "35 (240, 3, 0)\n",
            "36 (323, 3, 0)\n",
            "37 (73, 3, 0)\n",
            "38 (171, 3, 0)\n",
            "39 (116, 3, 0)\n",
            "40 (121, 3, 0)\n",
            "41 (100, 3, 0)\n",
            "42 (74, 3, 0)\n",
            "43 (135, 3, 0)\n",
            "44 (116, 3, 0)\n",
            "45 (240, 3, 0)\n",
            "46 (100, 3, 0)\n",
            "47 (73, 3, 0)\n",
            "48 (329, 3, 0)\n",
            "49 (248, 3, 0)\n",
            "50 (247, 3, 0)\n",
            "51 (80, 3, 0)\n",
            "52 (80, 3, 0)\n",
            "53 (242, 3, 0)\n",
            "54 (121, 3, 0)\n",
            "55 (53, 3, 0)\n",
            "56 (83, 3, 0)\n",
            "57 (112, 3, 0)\n",
            "58 (131, 3, 0)\n",
            "59 (305, 3, 0)\n",
            "60 (116, 3, 0)\n",
            "61 (83, 3, 0)\n",
            "62 (212, 3, 0)\n",
            "63 (109, 3, 0)\n",
            "64 (73, 3, 0)\n",
            "65 (117, 3, 0)\n",
            "66 (114, 3, 0)\n",
            "67 (121, 3, 0)\n",
            "68 (78, 3, 0)\n",
            "69 (157, 3, 0)\n",
            "70 (104, 3, 0)\n",
            "71 (240, 3, 0)\n",
            "72 (65, 3, 0)\n",
            "73 (80, 3, 0)\n",
            "74 (99, 3, 0)\n",
            "75 (53, 3, 0)\n",
            "76 (74, 3, 0)\n",
            "77 (80, 3, 0)\n",
            "78 (109, 3, 0)\n",
            "79 (110, 3, 0)\n",
            "80 (73, 3, 0)\n",
            "81 (345, 3, 0)\n",
            "82 (122, 3, 0)\n",
            "83 (98, 3, 0)\n",
            "84 (62, 3, 0)\n",
            "85 (116, 3, 0)\n",
            "86 (240, 3, 0)\n",
            "87 (86, 3, 0)\n",
            "88 (80, 3, 0)\n",
            "89 (161, 3, 0)\n",
            "90 (240, 3, 0)\n",
            "91 (240, 3, 0)\n",
            "92 (96, 3, 0)\n",
            "93 (240, 3, 0)\n",
            "94 (140, 3, 0)\n",
            "95 (75, 3, 0)\n",
            "96 (80, 3, 0)\n",
            "97 (240, 3, 0)\n",
            "98 (104, 3, 0)\n",
            "99 (240, 3, 0)\n",
            "100 (65, 3, 0)\n",
            "101 (80, 3, 0)\n",
            "102 (271, 3, 0)\n",
            "103 (113, 3, 0)\n",
            "104 (269, 3, 0)\n",
            "105 (109, 3, 0)\n",
            "106 (76, 3, 0)\n",
            "107 (80, 3, 0)\n",
            "108 (116, 3, 0)\n",
            "109 (240, 3, 0)\n",
            "110 (78, 3, 0)\n",
            "111 (74, 3, 0)\n",
            "112 (116, 3, 0)\n",
            "113 (240, 3, 0)\n",
            "114 (269, 3, 0)\n",
            "115 (53, 3, 0)\n",
            "116 (74, 3, 0)\n",
            "117 (78, 3, 0)\n",
            "118 (98, 3, 0)\n",
            "119 (240, 3, 0)\n",
            "120 (73, 3, 0)\n",
            "121 (75, 3, 0)\n",
            "122 (116, 3, 0)\n",
            "123 (270, 3, 0)\n",
            "124 (100, 3, 0)\n",
            "125 (73, 3, 0)\n",
            "126 (240, 3, 0)\n",
            "127 (329, 3, 0)\n",
            "128 (110, 3, 0)\n",
            "129 (136, 3, 0)\n",
            "130 (78, 3, 0)\n",
            "131 (105, 3, 0)\n",
            "132 (109, 3, 0)\n",
            "133 (121, 3, 0)\n",
            "134 (121, 3, 0)\n",
            "135 (75, 3, 0)\n",
            "136 (74, 3, 0)\n",
            "137 (329, 3, 0)\n",
            "138 (240, 3, 0)\n",
            "139 (108, 3, 0)\n",
            "140 (62, 3, 0)\n",
            "141 (65, 3, 0)\n",
            "142 (115, 3, 0)\n",
            "143 (121, 3, 0)\n",
            "144 (266, 3, 0)\n",
            "145 (53, 3, 0)\n",
            "146 (65, 3, 0)\n",
            "147 (78, 3, 0)\n",
            "148 (240, 3, 0)\n",
            "149 (100, 3, 0)\n",
            "150 (65, 3, 0)\n",
            "151 (46, 3, 0)\n",
            "152 (114, 3, 0)\n",
            "153 (142, 3, 0)\n",
            "154 (240, 3, 0)\n",
            "155 (109, 3, 0)\n",
            "156 (75, 3, 0)\n",
            "157 (65, 3, 0)\n",
            "158 (116, 3, 0)\n",
            "159 (240, 3, 0)\n",
            "160 (108, 3, 0)\n",
            "161 (76, 3, 0)\n",
            "162 (74, 3, 0)\n",
            "163 (80, 3, 0)\n",
            "164 (242, 3, 0)\n",
            "165 (240, 3, 0)\n",
            "166 (240, 3, 0)\n",
            "167 (73, 3, 0)\n",
            "168 (74, 3, 0)\n",
            "169 (329, 3, 0)\n",
            "170 (242, 3, 0)\n",
            "171 (240, 3, 0)\n",
            "172 (240, 3, 0)\n",
            "173 (75, 3, 0)\n",
            "174 (73, 3, 0)\n",
            "175 (329, 3, 0)\n",
            "176 (104, 3, 0)\n",
            "177 (240, 3, 0)\n",
            "178 (121, 3, 0)\n",
            "179 (74, 3, 0)\n",
            "180 (329, 3, 0)\n",
            "181 (384, 3, 0)\n",
            "182 (240, 3, 0)\n",
            "183 (109, 3, 0)\n",
            "184 (75, 3, 0)\n",
            "185 (72, 3, 0)\n",
            "186 (114, 3, 0)\n",
            "187 (98, 3, 0)\n",
            "188 (75, 3, 0)\n",
            "189 (82, 3, 0)\n",
            "190 (74, 3, 0)\n",
            "191 (116, 3, 0)\n",
            "192 (222, 3, 0)\n",
            "193 (101, 3, 0)\n",
            "194 (53, 3, 0)\n",
            "195 (65, 3, 0)\n",
            "196 (81, 3, 0)\n",
            "197 (240, 3, 0)\n",
            "198 (240, 3, 0)\n",
            "199 (53, 3, 0)\n",
            "200 (81, 3, 0)\n",
            "201 (80, 3, 0)\n",
            "202 (116, 3, 0)\n",
            "203 (240, 3, 0)\n",
            "204 (240, 3, 0)\n",
            "205 (53, 3, 0)\n",
            "206 (74, 3, 0)\n",
            "207 (98, 3, 0)\n",
            "208 (329, 3, 0)\n",
            "209 (240, 3, 0)\n",
            "210 (121, 3, 0)\n",
            "211 (74, 3, 0)\n",
            "212 (62, 3, 0)\n",
            "213 (114, 3, 0)\n",
            "214 (159, 3, 0)\n",
            "215 (115, 3, 0)\n",
            "216 (104, 3, 0)\n",
            "217 (76, 3, 0)\n",
            "218 (197, 3, 0)\n",
            "219 (113, 3, 0)\n",
            "220 (240, 3, 0)\n",
            "221 (241, 3, 0)\n",
            "222 (53, 3, 0)\n",
            "223 (65, 3, 0)\n",
            "224 (135, 3, 0)\n",
            "225 (329, 3, 0)\n",
            "226 (110, 3, 0)\n",
            "227 (135, 3, 0)\n",
            "228 (240, 3, 0)\n",
            "229 (121, 3, 0)\n",
            "230 (47, 3, 0)\n",
            "231 (64, 3, 0)\n",
            "232 (329, 3, 0)\n",
            "233 (171, 3, 0)\n",
            "234 (247, 3, 0)\n",
            "235 (121, 3, 0)\n",
            "236 (74, 3, 0)\n",
            "237 (80, 3, 0)\n",
            "238 (384, 3, 0)\n",
            "239 (171, 3, 0)\n",
            "240 (240, 3, 0)\n",
            "241 (66, 3, 0)\n",
            "242 (76, 3, 0)\n",
            "243 (64, 3, 0)\n",
            "244 (116, 3, 0)\n",
            "245 (240, 3, 0)\n",
            "246 (327, 3, 0)\n",
            "247 (283, 3, 0)\n",
            "248 (59, 3, 0)\n",
            "249 (80, 3, 0)\n"
          ]
        },
        {
          "output_type": "error",
          "ename": "ValueError",
          "evalue": "ignored",
          "traceback": [
            "\u001b[0;31m---------------------------------------------------------------------------\u001b[0m",
            "\u001b[0;31mValueError\u001b[0m                                Traceback (most recent call last)",
            "\u001b[0;32m<ipython-input-10-658966d198d2>\u001b[0m in \u001b[0;36m<cell line: 40>\u001b[0;34m()\u001b[0m\n\u001b[1;32m     38\u001b[0m \u001b[0mxo_temp\u001b[0m \u001b[0;34m=\u001b[0m \u001b[0mxseq_test\u001b[0m\u001b[0;34m[\u001b[0m\u001b[0mi\u001b[0m\u001b[0;34m*\u001b[0m\u001b[0;36m100\u001b[0m\u001b[0;34m:\u001b[0m\u001b[0;34m(\u001b[0m\u001b[0mi\u001b[0m\u001b[0;34m+\u001b[0m\u001b[0;36m1\u001b[0m\u001b[0;34m)\u001b[0m\u001b[0;34m*\u001b[0m\u001b[0;36m100\u001b[0m\u001b[0;34m]\u001b[0m\u001b[0;34m\u001b[0m\u001b[0;34m\u001b[0m\u001b[0m\n\u001b[1;32m     39\u001b[0m \u001b[0myo_test\u001b[0m \u001b[0;34m=\u001b[0m \u001b[0my_test\u001b[0m\u001b[0;34m[\u001b[0m\u001b[0mi\u001b[0m\u001b[0;34m*\u001b[0m\u001b[0;36m100\u001b[0m\u001b[0;34m:\u001b[0m\u001b[0;34m(\u001b[0m\u001b[0mi\u001b[0m\u001b[0;34m+\u001b[0m\u001b[0;36m1\u001b[0m\u001b[0;34m)\u001b[0m\u001b[0;34m*\u001b[0m\u001b[0;36m100\u001b[0m\u001b[0;34m]\u001b[0m\u001b[0;34m\u001b[0m\u001b[0;34m\u001b[0m\u001b[0m\n\u001b[0;32m---> 40\u001b[0;31m \u001b[0mmodel\u001b[0m\u001b[0;34m.\u001b[0m\u001b[0mevaluate\u001b[0m\u001b[0;34m(\u001b[0m\u001b[0mxo_temp\u001b[0m\u001b[0;34m,\u001b[0m\u001b[0myo_test\u001b[0m\u001b[0;34m)\u001b[0m\u001b[0;34m\u001b[0m\u001b[0;34m\u001b[0m\u001b[0m\n\u001b[0m",
            "\u001b[0;32m/usr/local/lib/python3.10/dist-packages/keras/utils/traceback_utils.py\u001b[0m in \u001b[0;36merror_handler\u001b[0;34m(*args, **kwargs)\u001b[0m\n\u001b[1;32m     68\u001b[0m             \u001b[0;31m# To get the full stack trace, call:\u001b[0m\u001b[0;34m\u001b[0m\u001b[0;34m\u001b[0m\u001b[0m\n\u001b[1;32m     69\u001b[0m             \u001b[0;31m# `tf.debugging.disable_traceback_filtering()`\u001b[0m\u001b[0;34m\u001b[0m\u001b[0;34m\u001b[0m\u001b[0m\n\u001b[0;32m---> 70\u001b[0;31m             \u001b[0;32mraise\u001b[0m \u001b[0me\u001b[0m\u001b[0;34m.\u001b[0m\u001b[0mwith_traceback\u001b[0m\u001b[0;34m(\u001b[0m\u001b[0mfiltered_tb\u001b[0m\u001b[0;34m)\u001b[0m \u001b[0;32mfrom\u001b[0m \u001b[0;32mNone\u001b[0m\u001b[0;34m\u001b[0m\u001b[0;34m\u001b[0m\u001b[0m\n\u001b[0m\u001b[1;32m     71\u001b[0m         \u001b[0;32mfinally\u001b[0m\u001b[0;34m:\u001b[0m\u001b[0;34m\u001b[0m\u001b[0;34m\u001b[0m\u001b[0m\n\u001b[1;32m     72\u001b[0m             \u001b[0;32mdel\u001b[0m \u001b[0mfiltered_tb\u001b[0m\u001b[0;34m\u001b[0m\u001b[0;34m\u001b[0m\u001b[0m\n",
            "\u001b[0;32m/usr/local/lib/python3.10/dist-packages/keras/engine/training.py\u001b[0m in \u001b[0;36mtf__test_function\u001b[0;34m(iterator)\u001b[0m\n\u001b[1;32m     13\u001b[0m                 \u001b[0;32mtry\u001b[0m\u001b[0;34m:\u001b[0m\u001b[0;34m\u001b[0m\u001b[0;34m\u001b[0m\u001b[0m\n\u001b[1;32m     14\u001b[0m                     \u001b[0mdo_return\u001b[0m \u001b[0;34m=\u001b[0m \u001b[0;32mTrue\u001b[0m\u001b[0;34m\u001b[0m\u001b[0;34m\u001b[0m\u001b[0m\n\u001b[0;32m---> 15\u001b[0;31m                     \u001b[0mretval_\u001b[0m \u001b[0;34m=\u001b[0m \u001b[0mag__\u001b[0m\u001b[0;34m.\u001b[0m\u001b[0mconverted_call\u001b[0m\u001b[0;34m(\u001b[0m\u001b[0mag__\u001b[0m\u001b[0;34m.\u001b[0m\u001b[0mld\u001b[0m\u001b[0;34m(\u001b[0m\u001b[0mstep_function\u001b[0m\u001b[0;34m)\u001b[0m\u001b[0;34m,\u001b[0m \u001b[0;34m(\u001b[0m\u001b[0mag__\u001b[0m\u001b[0;34m.\u001b[0m\u001b[0mld\u001b[0m\u001b[0;34m(\u001b[0m\u001b[0mself\u001b[0m\u001b[0;34m)\u001b[0m\u001b[0;34m,\u001b[0m \u001b[0mag__\u001b[0m\u001b[0;34m.\u001b[0m\u001b[0mld\u001b[0m\u001b[0;34m(\u001b[0m\u001b[0miterator\u001b[0m\u001b[0;34m)\u001b[0m\u001b[0;34m)\u001b[0m\u001b[0;34m,\u001b[0m \u001b[0;32mNone\u001b[0m\u001b[0;34m,\u001b[0m \u001b[0mfscope\u001b[0m\u001b[0;34m)\u001b[0m\u001b[0;34m\u001b[0m\u001b[0;34m\u001b[0m\u001b[0m\n\u001b[0m\u001b[1;32m     16\u001b[0m                 \u001b[0;32mexcept\u001b[0m\u001b[0;34m:\u001b[0m\u001b[0;34m\u001b[0m\u001b[0;34m\u001b[0m\u001b[0m\n\u001b[1;32m     17\u001b[0m                     \u001b[0mdo_return\u001b[0m \u001b[0;34m=\u001b[0m \u001b[0;32mFalse\u001b[0m\u001b[0;34m\u001b[0m\u001b[0;34m\u001b[0m\u001b[0m\n",
            "\u001b[0;31mValueError\u001b[0m: in user code:\n\n    File \"/usr/local/lib/python3.10/dist-packages/keras/engine/training.py\", line 1852, in test_function  *\n        return step_function(self, iterator)\n    File \"/usr/local/lib/python3.10/dist-packages/keras/engine/training.py\", line 1836, in step_function  **\n        outputs = model.distribute_strategy.run(run_step, args=(data,))\n    File \"/usr/local/lib/python3.10/dist-packages/keras/engine/training.py\", line 1824, in run_step  **\n        outputs = model.test_step(data)\n    File \"/usr/local/lib/python3.10/dist-packages/keras/engine/training.py\", line 1788, in test_step\n        y_pred = self(x, training=False)\n    File \"/usr/local/lib/python3.10/dist-packages/keras/utils/traceback_utils.py\", line 70, in error_handler\n        raise e.with_traceback(filtered_tb) from None\n    File \"/usr/local/lib/python3.10/dist-packages/keras/engine/input_spec.py\", line 235, in assert_input_compatibility\n        raise ValueError(\n\n    ValueError: Exception encountered when calling layer 'sequential_2' (type Sequential).\n    \n    Input 0 of layer \"simple_rnn_2\" is incompatible with the layer: expected ndim=3, found ndim=2. Full shape received: (None, 150)\n    \n    Call arguments received by layer 'sequential_2' (type Sequential):\n      • inputs=tf.Tensor(shape=(None, 150), dtype=int32)\n      • training=False\n      • mask=None\n"
          ]
        }
      ]
    },
    {
      "cell_type": "code",
      "source": [],
      "metadata": {
        "id": "q6LaLoeAmqJv"
      },
      "execution_count": null,
      "outputs": []
    }
  ]
}