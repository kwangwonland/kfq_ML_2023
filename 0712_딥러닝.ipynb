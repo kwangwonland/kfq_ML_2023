{
  "nbformat": 4,
  "nbformat_minor": 0,
  "metadata": {
    "colab": {
      "provenance": [],
      "authorship_tag": "ABX9TyMK+auj3/XE/hz2M/WM1E33",
      "include_colab_link": true
    },
    "kernelspec": {
      "name": "python3",
      "display_name": "Python 3"
    },
    "language_info": {
      "name": "python"
    }
  },
  "cells": [
    {
      "cell_type": "markdown",
      "metadata": {
        "id": "view-in-github",
        "colab_type": "text"
      },
      "source": [
        "<a href=\"https://colab.research.google.com/github/kwangwonland/kfq_ML_2023/blob/main/0712_%EB%94%A5%EB%9F%AC%EB%8B%9D.ipynb\" target=\"_parent\"><img src=\"https://colab.research.google.com/assets/colab-badge.svg\" alt=\"Open In Colab\"/></a>"
      ]
    },
    {
      "cell_type": "code",
      "execution_count": 1,
      "metadata": {
        "id": "JR3fLjoyboOm"
      },
      "outputs": [],
      "source": [
        "answer=[0,1,1]\n",
        "def fibonacci2(n):\n",
        "  if n >= len(answer):\n",
        "    re = fibonacci2(n-1) + fibonacci2(n-2)\n",
        "    answer.append(re)\n",
        "  return answer[n]"
      ]
    },
    {
      "cell_type": "code",
      "source": [
        "for i in range(35,50):\n",
        "    a=fibonacci2(i)\n",
        "    print(a)"
      ],
      "metadata": {
        "colab": {
          "base_uri": "https://localhost:8080/"
        },
        "id": "w9H43hdO-6HF",
        "outputId": "eacff381-2efe-48c3-d272-65088c3fa05b"
      },
      "execution_count": 3,
      "outputs": [
        {
          "output_type": "stream",
          "name": "stdout",
          "text": [
            "9227465\n",
            "14930352\n",
            "24157817\n",
            "39088169\n",
            "63245986\n",
            "102334155\n",
            "165580141\n",
            "267914296\n",
            "433494437\n",
            "701408733\n",
            "1134903170\n",
            "1836311903\n",
            "2971215073\n",
            "4807526976\n",
            "7778742049\n"
          ]
        }
      ]
    },
    {
      "cell_type": "code",
      "source": [
        "from tensorflow.keras.datasets import mnist\n",
        "import tensorflow as tf\n",
        "from tensorflow import keras\n",
        "import numpy as np"
      ],
      "metadata": {
        "id": "wKA-_X56-_sa"
      },
      "execution_count": 11,
      "outputs": []
    },
    {
      "cell_type": "code",
      "source": [
        "(x_train,y_train),(x_test,y_test)=mnist.load_data()"
      ],
      "metadata": {
        "id": "-R7X1pL_gQX8"
      },
      "execution_count": 7,
      "outputs": []
    },
    {
      "cell_type": "code",
      "source": [
        "x_train.shape"
      ],
      "metadata": {
        "colab": {
          "base_uri": "https://localhost:8080/"
        },
        "id": "-l2Eyf-RhdfN",
        "outputId": "9aa5d33c-b587-425b-ab48-4d661363b24a"
      },
      "execution_count": 9,
      "outputs": [
        {
          "output_type": "execute_result",
          "data": {
            "text/plain": [
              "(60000, 28, 28)"
            ]
          },
          "metadata": {},
          "execution_count": 9
        }
      ]
    },
    {
      "cell_type": "code",
      "source": [
        "x_train=x_train.reshape(-1,28*28)\n",
        "x_test=x_test.reshape(-1,28*28)"
      ],
      "metadata": {
        "id": "iIKpfCK1g7TU"
      },
      "execution_count": 10,
      "outputs": []
    },
    {
      "cell_type": "code",
      "source": [
        "np.max(x_train)"
      ],
      "metadata": {
        "colab": {
          "base_uri": "https://localhost:8080/"
        },
        "id": "lFuqRNvxhjB4",
        "outputId": "143dd51a-fac6-4960-9bfe-5b1e9091430f"
      },
      "execution_count": 12,
      "outputs": [
        {
          "output_type": "execute_result",
          "data": {
            "text/plain": [
              "255"
            ]
          },
          "metadata": {},
          "execution_count": 12
        }
      ]
    },
    {
      "cell_type": "code",
      "source": [
        "x_train=x_train/255.0\n",
        "x_test=x_test/255.0"
      ],
      "metadata": {
        "id": "af8vOU6Oh1gJ"
      },
      "execution_count": 14,
      "outputs": []
    },
    {
      "cell_type": "markdown",
      "source": [
        "# 모델 생성"
      ],
      "metadata": {
        "id": "eezHKuKUjjNE"
      }
    },
    {
      "cell_type": "code",
      "source": [
        "from keras import models\n",
        "from keras import layers"
      ],
      "metadata": {
        "id": "TtKK_tT5iK2W"
      },
      "execution_count": 15,
      "outputs": []
    },
    {
      "cell_type": "code",
      "source": [
        "model=models.Sequential()\n",
        "model.add(layers.Input(shape=(784,)))\n",
        "model.add(layers.Dense(500,activation='relu'))\n",
        "model.add(layers.Dense(10,activation='softmax'))\n",
        "\n",
        "model.compile(loss=keras.losses.sparse_categorical_crossentropy,optimizer='adam',metrics=['accuracy'])\n",
        "model.summary()"
      ],
      "metadata": {
        "colab": {
          "base_uri": "https://localhost:8080/"
        },
        "id": "XkXyalsFjmX1",
        "outputId": "6c09a0e0-ee52-4580-82a4-927dfc43ff8a"
      },
      "execution_count": 19,
      "outputs": [
        {
          "output_type": "stream",
          "name": "stdout",
          "text": [
            "Model: \"sequential_3\"\n",
            "_________________________________________________________________\n",
            " Layer (type)                Output Shape              Param #   \n",
            "=================================================================\n",
            " dense (Dense)               (None, 500)               392500    \n",
            "                                                                 \n",
            " dense_1 (Dense)             (None, 10)                5010      \n",
            "                                                                 \n",
            "=================================================================\n",
            "Total params: 397,510\n",
            "Trainable params: 397,510\n",
            "Non-trainable params: 0\n",
            "_________________________________________________________________\n"
          ]
        }
      ]
    },
    {
      "cell_type": "markdown",
      "source": [
        "# 학습"
      ],
      "metadata": {
        "id": "vOiHkrQ3mGL9"
      }
    },
    {
      "cell_type": "code",
      "source": [
        "hist=model.fit(x_train,y_train,epochs=100,\n",
        "               batch_size=128,\n",
        "               validation_split=0.2)"
      ],
      "metadata": {
        "colab": {
          "base_uri": "https://localhost:8080/"
        },
        "id": "9XIaGK_Nj34T",
        "outputId": "70a01cbd-9230-43d9-98d3-de54a669dea2"
      },
      "execution_count": 21,
      "outputs": [
        {
          "output_type": "stream",
          "name": "stdout",
          "text": [
            "Epoch 1/100\n",
            "375/375 [==============================] - 7s 16ms/step - loss: 0.2988 - accuracy: 0.9166 - val_loss: 0.1549 - val_accuracy: 0.9562\n",
            "Epoch 2/100\n",
            "375/375 [==============================] - 4s 12ms/step - loss: 0.1232 - accuracy: 0.9644 - val_loss: 0.1183 - val_accuracy: 0.9635\n",
            "Epoch 3/100\n",
            "375/375 [==============================] - 4s 12ms/step - loss: 0.0807 - accuracy: 0.9766 - val_loss: 0.0948 - val_accuracy: 0.9712\n",
            "Epoch 4/100\n",
            "375/375 [==============================] - 6s 16ms/step - loss: 0.0581 - accuracy: 0.9832 - val_loss: 0.0846 - val_accuracy: 0.9736\n",
            "Epoch 5/100\n",
            "375/375 [==============================] - 5s 12ms/step - loss: 0.0422 - accuracy: 0.9882 - val_loss: 0.0836 - val_accuracy: 0.9747\n",
            "Epoch 6/100\n",
            "375/375 [==============================] - 5s 14ms/step - loss: 0.0333 - accuracy: 0.9904 - val_loss: 0.0861 - val_accuracy: 0.9737\n",
            "Epoch 7/100\n",
            "375/375 [==============================] - 4s 12ms/step - loss: 0.0232 - accuracy: 0.9941 - val_loss: 0.0812 - val_accuracy: 0.9748\n",
            "Epoch 8/100\n",
            "375/375 [==============================] - 4s 12ms/step - loss: 0.0177 - accuracy: 0.9955 - val_loss: 0.0718 - val_accuracy: 0.9780\n",
            "Epoch 9/100\n",
            "375/375 [==============================] - 6s 15ms/step - loss: 0.0134 - accuracy: 0.9966 - val_loss: 0.0819 - val_accuracy: 0.9776\n",
            "Epoch 10/100\n",
            "375/375 [==============================] - 4s 12ms/step - loss: 0.0110 - accuracy: 0.9975 - val_loss: 0.0807 - val_accuracy: 0.9767\n",
            "Epoch 11/100\n",
            "375/375 [==============================] - 4s 11ms/step - loss: 0.0086 - accuracy: 0.9983 - val_loss: 0.0767 - val_accuracy: 0.9784\n",
            "Epoch 12/100\n",
            "375/375 [==============================] - 6s 15ms/step - loss: 0.0075 - accuracy: 0.9985 - val_loss: 0.0845 - val_accuracy: 0.9773\n",
            "Epoch 13/100\n",
            "375/375 [==============================] - 4s 10ms/step - loss: 0.0066 - accuracy: 0.9986 - val_loss: 0.0762 - val_accuracy: 0.9796\n",
            "Epoch 14/100\n",
            "375/375 [==============================] - 4s 11ms/step - loss: 0.0048 - accuracy: 0.9990 - val_loss: 0.0882 - val_accuracy: 0.9792\n",
            "Epoch 15/100\n",
            "375/375 [==============================] - 6s 16ms/step - loss: 0.0036 - accuracy: 0.9994 - val_loss: 0.0794 - val_accuracy: 0.9798\n",
            "Epoch 16/100\n",
            "375/375 [==============================] - 5s 14ms/step - loss: 0.0015 - accuracy: 1.0000 - val_loss: 0.0789 - val_accuracy: 0.9805\n",
            "Epoch 17/100\n",
            "375/375 [==============================] - 6s 16ms/step - loss: 0.0107 - accuracy: 0.9965 - val_loss: 0.1058 - val_accuracy: 0.9764\n",
            "Epoch 18/100\n",
            "375/375 [==============================] - 5s 13ms/step - loss: 0.0108 - accuracy: 0.9967 - val_loss: 0.0892 - val_accuracy: 0.9787\n",
            "Epoch 19/100\n",
            "375/375 [==============================] - 5s 13ms/step - loss: 0.0024 - accuracy: 0.9997 - val_loss: 0.0860 - val_accuracy: 0.9802\n",
            "Epoch 20/100\n",
            "375/375 [==============================] - 6s 16ms/step - loss: 0.0010 - accuracy: 0.9999 - val_loss: 0.0809 - val_accuracy: 0.9819\n",
            "Epoch 21/100\n",
            "375/375 [==============================] - 5s 13ms/step - loss: 8.6525e-04 - accuracy: 0.9999 - val_loss: 0.0824 - val_accuracy: 0.9815\n",
            "Epoch 22/100\n",
            "375/375 [==============================] - 6s 16ms/step - loss: 3.5375e-04 - accuracy: 1.0000 - val_loss: 0.0826 - val_accuracy: 0.9822\n",
            "Epoch 23/100\n",
            "375/375 [==============================] - 5s 13ms/step - loss: 2.6978e-04 - accuracy: 1.0000 - val_loss: 0.0837 - val_accuracy: 0.9819\n",
            "Epoch 24/100\n",
            "375/375 [==============================] - 6s 15ms/step - loss: 2.2518e-04 - accuracy: 1.0000 - val_loss: 0.0844 - val_accuracy: 0.9828\n",
            "Epoch 25/100\n",
            "375/375 [==============================] - 5s 13ms/step - loss: 1.9832e-04 - accuracy: 1.0000 - val_loss: 0.0848 - val_accuracy: 0.9822\n",
            "Epoch 26/100\n",
            "375/375 [==============================] - 5s 13ms/step - loss: 4.7770e-04 - accuracy: 0.9999 - val_loss: 0.1030 - val_accuracy: 0.9794\n",
            "Epoch 27/100\n",
            "375/375 [==============================] - 6s 15ms/step - loss: 0.0256 - accuracy: 0.9920 - val_loss: 0.1034 - val_accuracy: 0.9776\n",
            "Epoch 28/100\n",
            "375/375 [==============================] - 5s 14ms/step - loss: 0.0029 - accuracy: 0.9994 - val_loss: 0.0887 - val_accuracy: 0.9808\n",
            "Epoch 29/100\n",
            "375/375 [==============================] - 7s 19ms/step - loss: 9.6428e-04 - accuracy: 0.9999 - val_loss: 0.1115 - val_accuracy: 0.9772\n",
            "Epoch 30/100\n",
            "375/375 [==============================] - 4s 12ms/step - loss: 0.0013 - accuracy: 0.9997 - val_loss: 0.0895 - val_accuracy: 0.9819\n",
            "Epoch 31/100\n",
            "375/375 [==============================] - 5s 12ms/step - loss: 6.1030e-04 - accuracy: 0.9999 - val_loss: 0.0916 - val_accuracy: 0.9817\n",
            "Epoch 32/100\n",
            "375/375 [==============================] - 7s 19ms/step - loss: 2.0169e-04 - accuracy: 1.0000 - val_loss: 0.0924 - val_accuracy: 0.9817\n",
            "Epoch 33/100\n",
            "375/375 [==============================] - 5s 14ms/step - loss: 1.4342e-04 - accuracy: 1.0000 - val_loss: 0.0927 - val_accuracy: 0.9815\n",
            "Epoch 34/100\n",
            "375/375 [==============================] - 6s 17ms/step - loss: 1.1978e-04 - accuracy: 1.0000 - val_loss: 0.0933 - val_accuracy: 0.9817\n",
            "Epoch 35/100\n",
            "375/375 [==============================] - 5s 13ms/step - loss: 1.0178e-04 - accuracy: 1.0000 - val_loss: 0.0944 - val_accuracy: 0.9817\n",
            "Epoch 36/100\n",
            "375/375 [==============================] - 7s 18ms/step - loss: 8.9187e-05 - accuracy: 1.0000 - val_loss: 0.0945 - val_accuracy: 0.9822\n",
            "Epoch 37/100\n",
            "375/375 [==============================] - 6s 15ms/step - loss: 7.7573e-05 - accuracy: 1.0000 - val_loss: 0.0955 - val_accuracy: 0.9819\n",
            "Epoch 38/100\n",
            "375/375 [==============================] - 5s 14ms/step - loss: 6.8160e-05 - accuracy: 1.0000 - val_loss: 0.0963 - val_accuracy: 0.9821\n",
            "Epoch 39/100\n",
            "375/375 [==============================] - 8s 21ms/step - loss: 6.0587e-05 - accuracy: 1.0000 - val_loss: 0.0975 - val_accuracy: 0.9824\n",
            "Epoch 40/100\n",
            "375/375 [==============================] - 10s 28ms/step - loss: 5.2215e-05 - accuracy: 1.0000 - val_loss: 0.0979 - val_accuracy: 0.9827\n",
            "Epoch 41/100\n",
            "375/375 [==============================] - 7s 19ms/step - loss: 4.6012e-05 - accuracy: 1.0000 - val_loss: 0.0993 - val_accuracy: 0.9822\n",
            "Epoch 42/100\n",
            "375/375 [==============================] - 7s 18ms/step - loss: 3.9632e-05 - accuracy: 1.0000 - val_loss: 0.0999 - val_accuracy: 0.9827\n",
            "Epoch 43/100\n",
            "375/375 [==============================] - 6s 16ms/step - loss: 3.4163e-05 - accuracy: 1.0000 - val_loss: 0.1002 - val_accuracy: 0.9825\n",
            "Epoch 44/100\n",
            "375/375 [==============================] - 6s 15ms/step - loss: 2.9912e-05 - accuracy: 1.0000 - val_loss: 0.1017 - val_accuracy: 0.9826\n",
            "Epoch 45/100\n",
            "375/375 [==============================] - 4s 12ms/step - loss: 2.6197e-05 - accuracy: 1.0000 - val_loss: 0.1019 - val_accuracy: 0.9824\n",
            "Epoch 46/100\n",
            "375/375 [==============================] - 5s 14ms/step - loss: 2.3022e-05 - accuracy: 1.0000 - val_loss: 0.1037 - val_accuracy: 0.9820\n",
            "Epoch 47/100\n",
            "375/375 [==============================] - 6s 17ms/step - loss: 2.2803e-05 - accuracy: 1.0000 - val_loss: 0.1044 - val_accuracy: 0.9822\n",
            "Epoch 48/100\n",
            "375/375 [==============================] - 6s 15ms/step - loss: 1.7218e-05 - accuracy: 1.0000 - val_loss: 0.1042 - val_accuracy: 0.9828\n",
            "Epoch 49/100\n",
            "375/375 [==============================] - 6s 16ms/step - loss: 1.3591e-05 - accuracy: 1.0000 - val_loss: 0.1057 - val_accuracy: 0.9830\n",
            "Epoch 50/100\n",
            "375/375 [==============================] - 5s 12ms/step - loss: 1.2399e-05 - accuracy: 1.0000 - val_loss: 0.1067 - val_accuracy: 0.9820\n",
            "Epoch 51/100\n",
            "375/375 [==============================] - 6s 16ms/step - loss: 0.0240 - accuracy: 0.9931 - val_loss: 0.1155 - val_accuracy: 0.9790\n",
            "Epoch 52/100\n",
            "375/375 [==============================] - 5s 14ms/step - loss: 0.0053 - accuracy: 0.9983 - val_loss: 0.1168 - val_accuracy: 0.9788\n",
            "Epoch 53/100\n",
            "375/375 [==============================] - 4s 12ms/step - loss: 6.7409e-04 - accuracy: 0.9999 - val_loss: 0.1137 - val_accuracy: 0.9803\n",
            "Epoch 54/100\n",
            "375/375 [==============================] - 6s 16ms/step - loss: 2.9491e-04 - accuracy: 1.0000 - val_loss: 0.1053 - val_accuracy: 0.9814\n",
            "Epoch 55/100\n",
            "375/375 [==============================] - 5s 12ms/step - loss: 9.1624e-05 - accuracy: 1.0000 - val_loss: 0.1054 - val_accuracy: 0.9814\n",
            "Epoch 56/100\n",
            "375/375 [==============================] - 5s 14ms/step - loss: 7.2751e-05 - accuracy: 1.0000 - val_loss: 0.1055 - val_accuracy: 0.9812\n",
            "Epoch 57/100\n",
            "375/375 [==============================] - 6s 15ms/step - loss: 6.1323e-05 - accuracy: 1.0000 - val_loss: 0.1061 - val_accuracy: 0.9812\n",
            "Epoch 58/100\n",
            "375/375 [==============================] - 5s 12ms/step - loss: 5.2564e-05 - accuracy: 1.0000 - val_loss: 0.1063 - val_accuracy: 0.9810\n",
            "Epoch 59/100\n",
            "375/375 [==============================] - 6s 15ms/step - loss: 4.6009e-05 - accuracy: 1.0000 - val_loss: 0.1066 - val_accuracy: 0.9815\n",
            "Epoch 60/100\n",
            "375/375 [==============================] - 5s 15ms/step - loss: 3.9902e-05 - accuracy: 1.0000 - val_loss: 0.1076 - val_accuracy: 0.9815\n",
            "Epoch 61/100\n",
            "375/375 [==============================] - 5s 13ms/step - loss: 3.5349e-05 - accuracy: 1.0000 - val_loss: 0.1078 - val_accuracy: 0.9814\n",
            "Epoch 62/100\n",
            "375/375 [==============================] - 6s 15ms/step - loss: 3.0773e-05 - accuracy: 1.0000 - val_loss: 0.1081 - val_accuracy: 0.9815\n",
            "Epoch 63/100\n",
            "375/375 [==============================] - 5s 12ms/step - loss: 2.7146e-05 - accuracy: 1.0000 - val_loss: 0.1089 - val_accuracy: 0.9817\n",
            "Epoch 64/100\n",
            "375/375 [==============================] - 6s 15ms/step - loss: 2.3603e-05 - accuracy: 1.0000 - val_loss: 0.1093 - val_accuracy: 0.9813\n",
            "Epoch 65/100\n",
            "375/375 [==============================] - 4s 12ms/step - loss: 2.0833e-05 - accuracy: 1.0000 - val_loss: 0.1093 - val_accuracy: 0.9820\n",
            "Epoch 66/100\n",
            "375/375 [==============================] - 4s 12ms/step - loss: 1.8106e-05 - accuracy: 1.0000 - val_loss: 0.1099 - val_accuracy: 0.9818\n",
            "Epoch 67/100\n",
            "375/375 [==============================] - 6s 17ms/step - loss: 1.6071e-05 - accuracy: 1.0000 - val_loss: 0.1106 - val_accuracy: 0.9822\n",
            "Epoch 68/100\n",
            "375/375 [==============================] - 5s 12ms/step - loss: 1.4004e-05 - accuracy: 1.0000 - val_loss: 0.1113 - val_accuracy: 0.9822\n",
            "Epoch 69/100\n",
            "375/375 [==============================] - 5s 13ms/step - loss: 1.2193e-05 - accuracy: 1.0000 - val_loss: 0.1120 - val_accuracy: 0.9820\n",
            "Epoch 70/100\n",
            "375/375 [==============================] - 5s 14ms/step - loss: 1.0659e-05 - accuracy: 1.0000 - val_loss: 0.1137 - val_accuracy: 0.9822\n",
            "Epoch 71/100\n",
            "375/375 [==============================] - 4s 12ms/step - loss: 9.2231e-06 - accuracy: 1.0000 - val_loss: 0.1143 - val_accuracy: 0.9821\n",
            "Epoch 72/100\n",
            "375/375 [==============================] - 6s 16ms/step - loss: 8.1036e-06 - accuracy: 1.0000 - val_loss: 0.1158 - val_accuracy: 0.9820\n",
            "Epoch 73/100\n",
            "375/375 [==============================] - 6s 16ms/step - loss: 6.9558e-06 - accuracy: 1.0000 - val_loss: 0.1165 - val_accuracy: 0.9821\n",
            "Epoch 74/100\n",
            "375/375 [==============================] - 6s 17ms/step - loss: 6.0353e-06 - accuracy: 1.0000 - val_loss: 0.1174 - val_accuracy: 0.9822\n",
            "Epoch 75/100\n",
            "375/375 [==============================] - 5s 12ms/step - loss: 5.2035e-06 - accuracy: 1.0000 - val_loss: 0.1179 - val_accuracy: 0.9821\n",
            "Epoch 76/100\n",
            "375/375 [==============================] - 5s 13ms/step - loss: 4.4678e-06 - accuracy: 1.0000 - val_loss: 0.1204 - val_accuracy: 0.9818\n",
            "Epoch 77/100\n",
            "375/375 [==============================] - 7s 18ms/step - loss: 4.2206e-06 - accuracy: 1.0000 - val_loss: 0.1203 - val_accuracy: 0.9819\n",
            "Epoch 78/100\n",
            "375/375 [==============================] - 5s 13ms/step - loss: 3.5634e-06 - accuracy: 1.0000 - val_loss: 0.1207 - val_accuracy: 0.9818\n",
            "Epoch 79/100\n",
            "375/375 [==============================] - 4s 12ms/step - loss: 2.8635e-06 - accuracy: 1.0000 - val_loss: 0.1221 - val_accuracy: 0.9821\n",
            "Epoch 80/100\n",
            "375/375 [==============================] - 5s 14ms/step - loss: 2.5117e-06 - accuracy: 1.0000 - val_loss: 0.1230 - val_accuracy: 0.9821\n",
            "Epoch 81/100\n",
            "375/375 [==============================] - 4s 10ms/step - loss: 2.1414e-06 - accuracy: 1.0000 - val_loss: 0.1245 - val_accuracy: 0.9818\n",
            "Epoch 82/100\n",
            "375/375 [==============================] - 6s 17ms/step - loss: 1.8181e-06 - accuracy: 1.0000 - val_loss: 0.1252 - val_accuracy: 0.9822\n",
            "Epoch 83/100\n",
            "375/375 [==============================] - 4s 12ms/step - loss: 1.5579e-06 - accuracy: 1.0000 - val_loss: 0.1258 - val_accuracy: 0.9822\n",
            "Epoch 84/100\n",
            "375/375 [==============================] - 4s 11ms/step - loss: 1.3294e-06 - accuracy: 1.0000 - val_loss: 0.1270 - val_accuracy: 0.9822\n",
            "Epoch 85/100\n",
            "375/375 [==============================] - 6s 15ms/step - loss: 1.1328e-06 - accuracy: 1.0000 - val_loss: 0.1285 - val_accuracy: 0.9821\n",
            "Epoch 86/100\n",
            "375/375 [==============================] - 5s 13ms/step - loss: 9.6452e-07 - accuracy: 1.0000 - val_loss: 0.1294 - val_accuracy: 0.9822\n",
            "Epoch 87/100\n",
            "375/375 [==============================] - 4s 12ms/step - loss: 8.2437e-07 - accuracy: 1.0000 - val_loss: 0.1310 - val_accuracy: 0.9820\n",
            "Epoch 88/100\n",
            "375/375 [==============================] - 5s 14ms/step - loss: 7.1046e-07 - accuracy: 1.0000 - val_loss: 0.1313 - val_accuracy: 0.9821\n",
            "Epoch 89/100\n",
            "375/375 [==============================] - 4s 11ms/step - loss: 6.0324e-07 - accuracy: 1.0000 - val_loss: 0.1320 - val_accuracy: 0.9825\n",
            "Epoch 90/100\n",
            "375/375 [==============================] - 5s 12ms/step - loss: 5.2411e-07 - accuracy: 1.0000 - val_loss: 0.1330 - val_accuracy: 0.9823\n",
            "Epoch 91/100\n",
            "375/375 [==============================] - 5s 13ms/step - loss: 4.5389e-07 - accuracy: 1.0000 - val_loss: 0.1345 - val_accuracy: 0.9825\n",
            "Epoch 92/100\n",
            "375/375 [==============================] - 5s 14ms/step - loss: 3.8120e-07 - accuracy: 1.0000 - val_loss: 0.1353 - val_accuracy: 0.9825\n",
            "Epoch 93/100\n",
            "375/375 [==============================] - 6s 16ms/step - loss: 3.2747e-07 - accuracy: 1.0000 - val_loss: 0.1365 - val_accuracy: 0.9827\n",
            "Epoch 94/100\n",
            "375/375 [==============================] - 4s 11ms/step - loss: 2.8683e-07 - accuracy: 1.0000 - val_loss: 0.1383 - val_accuracy: 0.9824\n",
            "Epoch 95/100\n",
            "375/375 [==============================] - 6s 15ms/step - loss: 2.4843e-07 - accuracy: 1.0000 - val_loss: 0.1393 - val_accuracy: 0.9827\n",
            "Epoch 96/100\n",
            "375/375 [==============================] - 5s 14ms/step - loss: 2.0939e-07 - accuracy: 1.0000 - val_loss: 0.1385 - val_accuracy: 0.9826\n",
            "Epoch 97/100\n",
            "375/375 [==============================] - 5s 14ms/step - loss: 1.8086e-07 - accuracy: 1.0000 - val_loss: 0.1410 - val_accuracy: 0.9825\n",
            "Epoch 98/100\n",
            "375/375 [==============================] - 6s 16ms/step - loss: 1.6029e-07 - accuracy: 1.0000 - val_loss: 0.1418 - val_accuracy: 0.9827\n",
            "Epoch 99/100\n",
            "375/375 [==============================] - 5s 12ms/step - loss: 1.3847e-07 - accuracy: 1.0000 - val_loss: 0.1428 - val_accuracy: 0.9823\n",
            "Epoch 100/100\n",
            "375/375 [==============================] - 6s 16ms/step - loss: 1.2199e-07 - accuracy: 1.0000 - val_loss: 0.1435 - val_accuracy: 0.9827\n"
          ]
        }
      ]
    },
    {
      "cell_type": "code",
      "source": [
        "import matplotlib.pyplot as plt\n",
        "\n",
        "plt.plot(hist.history['loss'],'r-',label='loss')\n",
        "plt.plot(hist.history['val_loss'],'b-.',label='validation_loss')\n",
        "plt.legend()\n",
        "plt.show()"
      ],
      "metadata": {
        "colab": {
          "base_uri": "https://localhost:8080/",
          "height": 430
        },
        "id": "ezr6Pe2zmdqW",
        "outputId": "aa8b816a-7256-47ed-bc99-5af1f5f7615a"
      },
      "execution_count": 24,
      "outputs": [
        {
          "output_type": "display_data",
          "data": {
            "text/plain": [
              "<Figure size 640x480 with 1 Axes>"
            ],
            "image/png": "[encoded data removed]"
          },
          "metadata": {}
        }
      ]
    },
    {
      "cell_type": "code",
      "source": [
        "pred=model.predict(x_test)\n"
      ],
      "metadata": {
        "colab": {
          "base_uri": "https://localhost:8080/"
        },
        "id": "RGv3OwgSo019",
        "outputId": "cb9e67cc-81a8-4a9a-c3bf-fc8ef914ce08"
      },
      "execution_count": 25,
      "outputs": [
        {
          "output_type": "stream",
          "name": "stdout",
          "text": [
            "313/313 [==============================] - 2s 5ms/step\n"
          ]
        }
      ]
    },
    {
      "cell_type": "code",
      "source": [
        "model.evaluate(x_test,y_test)"
      ],
      "metadata": {
        "colab": {
          "base_uri": "https://localhost:8080/"
        },
        "id": "qAwHHSXBpurO",
        "outputId": "02b1dbac-9a08-4567-e085-5aa6222b7c0e"
      },
      "execution_count": 27,
      "outputs": [
        {
          "output_type": "stream",
          "name": "stdout",
          "text": [
            "313/313 [==============================] - 2s 6ms/step - loss: 0.1251 - accuracy: 0.9835\n"
          ]
        },
        {
          "output_type": "execute_result",
          "data": {
            "text/plain": [
              "[0.1250668317079544, 0.9835000038146973]"
            ]
          },
          "metadata": {},
          "execution_count": 27
        }
      ]
    },
    {
      "cell_type": "code",
      "source": [
        "def add(x2d,y2d):\n",
        "  r2d = x2d.copy()\n",
        "  for i in range(x2d.shape[0]):\n",
        "    for j in range(x2d.shape[1]):\n",
        "      r2d[i,j] = x2d[i,j] + y2d[i,j]\n",
        "  return r2d"
      ],
      "metadata": {
        "id": "IaEkk_0CqE5J"
      },
      "execution_count": 28,
      "outputs": []
    },
    {
      "cell_type": "code",
      "source": [
        "x=np.random.random((3,3))\n",
        "y=np.random.random((3,3))\n",
        "print(x)\n",
        "print(y)\n",
        "add(x,y)"
      ],
      "metadata": {
        "colab": {
          "base_uri": "https://localhost:8080/"
        },
        "id": "xa10qinBzan1",
        "outputId": "1926af5f-f6c7-4bc3-c330-65959c1f1deb"
      },
      "execution_count": 30,
      "outputs": [
        {
          "output_type": "stream",
          "name": "stdout",
          "text": [
            "[[0.7796425  0.65650155 0.55431818]\n",
            " [0.39741509 0.76556864 0.92421554]\n",
            " [0.89278291 0.26712461 0.64071986]]\n",
            "[[0.1740413  0.83293158 0.85676861]\n",
            " [0.6193775  0.49444509 0.12296094]\n",
            " [0.37136338 0.99610164 0.62529341]]\n"
          ]
        },
        {
          "output_type": "execute_result",
          "data": {
            "text/plain": [
              "array([[0.9536838 , 1.48943313, 1.41108679],\n",
              "       [1.01679259, 1.26001374, 1.04717648],\n",
              "       [1.26414629, 1.26322625, 1.26601327]])"
            ]
          },
          "metadata": {},
          "execution_count": 30
        }
      ]
    },
    {
      "cell_type": "code",
      "source": [
        "x=np.random.random((28,28))\n",
        "y=np.random.random((28,28))\n",
        "x+y"
      ],
      "metadata": {
        "id": "0G7QXAPzzSmy"
      },
      "execution_count": null,
      "outputs": []
    },
    {
      "cell_type": "code",
      "source": [],
      "metadata": {
        "id": "x-KBtOjizYSz"
      },
      "execution_count": null,
      "outputs": []
    }
  ]
}