{
  "nbformat": 4,
  "nbformat_minor": 0,
  "metadata": {
    "colab": {
      "provenance": [],
      "authorship_tag": "ABX9TyO0EVDVektNCa8N9vOsnkMs",
      "include_colab_link": true
    },
    "kernelspec": {
      "name": "python3",
      "display_name": "Python 3"
    },
    "language_info": {
      "name": "python"
    }
  },
  "cells": [
    {
      "cell_type": "markdown",
      "metadata": {
        "id": "view-in-github",
        "colab_type": "text"
      },
      "source": [
        "<a href=\"https://colab.research.google.com/github/kwangwonland/kfq_ML_2023/blob/main/0718_%EB%94%A5%EB%9F%AC%EB%8B%9D_%ED%9B%88%EB%A0%A8_%EB%B0%8F_%ED%8F%89%EA%B0%80.ipynb\" target=\"_parent\"><img src=\"https://colab.research.google.com/assets/colab-badge.svg\" alt=\"Open In Colab\"/></a>"
      ]
    },
    {
      "cell_type": "code",
      "execution_count": 1,
      "metadata": {
        "id": "VdQAkL_-X8_B"
      },
      "outputs": [],
      "source": [
        "import tensorflow as tf\n",
        "from tensorflow import keras\n",
        "from keras import models\n",
        "from keras import layers"
      ]
    },
    {
      "cell_type": "code",
      "source": [
        "from keras.datasets import mnist"
      ],
      "metadata": {
        "id": "Cfl5XMA-Zb2w"
      },
      "execution_count": 3,
      "outputs": []
    },
    {
      "cell_type": "code",
      "source": [
        "(x_train,y_train),(x_test,y_test)=mnist.load_data()\n",
        "x_train=x_train.reshape(-1,784)\n",
        "x_test=x_test.reshape(-1,784)\n",
        "x_train=x_train/255.0\n",
        "x_test=x_test/255.0\n",
        "x_train=x_train.astype('float32')\n",
        "x_test=x_test.astype('float32')\n",
        "x_train,x_val=x_train[10000:],x_train[:10000]\n",
        "y_train,y_val=y_train[10000:],y_train[:10000]"
      ],
      "metadata": {
        "id": "cNI1jeczZfKw"
      },
      "execution_count": 9,
      "outputs": []
    },
    {
      "cell_type": "code",
      "source": [
        "def get_mnist_model():\n",
        "    inputs=keras.Input(shape=(784,))\n",
        "    hidden=layers.Dense(512,activation='relu')(inputs)\n",
        "    hidden2=layers.Dropout(0,5)(hidden)\n",
        "    outputs=layers.Dense(10,activation='softmax')(hidden2)\n",
        "    model=keras.Model(inputs,outputs)\n",
        "    return model\n",
        "\n",
        "model=get_mnist_model()\n",
        "# 모델 컴파일\n",
        "model.compile(optimizer='rmsprop',loss=keras.losses.sparse_categorical_crossentropy,metrics=['accuracy'])\n",
        "# 모델 학습\n",
        "hist=model.fit(x_train,y_train,epochs=20,validation_data=(x_val,y_val))\n",
        "# 모델 평가\n",
        "test=model.evaluate(x_test,y_test)\n",
        "# 모델 사용\n",
        "pred=model.predict(x_test)"
      ],
      "metadata": {
        "colab": {
          "base_uri": "https://localhost:8080/"
        },
        "id": "IXRjX1R8YH-Z",
        "outputId": "0d310bbb-49e3-4437-f1e2-bb59f184b138"
      },
      "execution_count": 11,
      "outputs": [
        {
          "output_type": "stream",
          "name": "stdout",
          "text": [
            "Epoch 1/20\n",
            "1563/1563 [==============================] - 14s 9ms/step - loss: 0.2222 - accuracy: 0.9337 - val_loss: 0.1467 - val_accuracy: 0.9588\n",
            "Epoch 2/20\n",
            "1563/1563 [==============================] - 12s 8ms/step - loss: 0.0928 - accuracy: 0.9725 - val_loss: 0.0888 - val_accuracy: 0.9738\n",
            "Epoch 3/20\n",
            "1563/1563 [==============================] - 13s 9ms/step - loss: 0.0629 - accuracy: 0.9805 - val_loss: 0.0837 - val_accuracy: 0.9770\n",
            "Epoch 4/20\n",
            "1563/1563 [==============================] - 12s 7ms/step - loss: 0.0463 - accuracy: 0.9857 - val_loss: 0.0863 - val_accuracy: 0.9772\n",
            "Epoch 5/20\n",
            "1563/1563 [==============================] - 12s 7ms/step - loss: 0.0344 - accuracy: 0.9894 - val_loss: 0.0900 - val_accuracy: 0.9783\n",
            "Epoch 6/20\n",
            "1563/1563 [==============================] - 12s 8ms/step - loss: 0.0256 - accuracy: 0.9925 - val_loss: 0.0874 - val_accuracy: 0.9771\n",
            "Epoch 7/20\n",
            "1563/1563 [==============================] - 12s 8ms/step - loss: 0.0200 - accuracy: 0.9941 - val_loss: 0.0839 - val_accuracy: 0.9793\n",
            "Epoch 8/20\n",
            "1563/1563 [==============================] - 12s 7ms/step - loss: 0.0145 - accuracy: 0.9955 - val_loss: 0.0896 - val_accuracy: 0.9797\n",
            "Epoch 9/20\n",
            "1563/1563 [==============================] - 11s 7ms/step - loss: 0.0109 - accuracy: 0.9968 - val_loss: 0.0937 - val_accuracy: 0.9792\n",
            "Epoch 10/20\n",
            "1563/1563 [==============================] - 11s 7ms/step - loss: 0.0081 - accuracy: 0.9976 - val_loss: 0.0943 - val_accuracy: 0.9805\n",
            "Epoch 11/20\n",
            "1563/1563 [==============================] - 12s 8ms/step - loss: 0.0051 - accuracy: 0.9987 - val_loss: 0.0998 - val_accuracy: 0.9795\n",
            "Epoch 12/20\n",
            "1563/1563 [==============================] - 13s 8ms/step - loss: 0.0035 - accuracy: 0.9990 - val_loss: 0.0951 - val_accuracy: 0.9808\n",
            "Epoch 13/20\n",
            "1563/1563 [==============================] - 16s 10ms/step - loss: 0.0027 - accuracy: 0.9993 - val_loss: 0.1074 - val_accuracy: 0.9796\n",
            "Epoch 14/20\n",
            "1563/1563 [==============================] - 11s 7ms/step - loss: 0.0017 - accuracy: 0.9996 - val_loss: 0.0948 - val_accuracy: 0.9814\n",
            "Epoch 15/20\n",
            "1563/1563 [==============================] - 12s 8ms/step - loss: 7.7570e-04 - accuracy: 0.9998 - val_loss: 0.0982 - val_accuracy: 0.9808\n",
            "Epoch 16/20\n",
            "1563/1563 [==============================] - 12s 7ms/step - loss: 3.5231e-04 - accuracy: 0.9999 - val_loss: 0.0968 - val_accuracy: 0.9825\n",
            "Epoch 17/20\n",
            "1563/1563 [==============================] - 12s 8ms/step - loss: 1.7822e-04 - accuracy: 1.0000 - val_loss: 0.0990 - val_accuracy: 0.9817\n",
            "Epoch 18/20\n",
            "1563/1563 [==============================] - 12s 8ms/step - loss: 8.8636e-05 - accuracy: 1.0000 - val_loss: 0.0983 - val_accuracy: 0.9819\n",
            "Epoch 19/20\n",
            "1563/1563 [==============================] - 12s 7ms/step - loss: 5.5950e-05 - accuracy: 1.0000 - val_loss: 0.0968 - val_accuracy: 0.9816\n",
            "Epoch 20/20\n",
            "1563/1563 [==============================] - 11s 7ms/step - loss: 4.7393e-05 - accuracy: 1.0000 - val_loss: 0.0979 - val_accuracy: 0.9822\n",
            "313/313 [==============================] - 1s 4ms/step - loss: 0.0890 - accuracy: 0.9825\n",
            "313/313 [==============================] - 1s 2ms/step\n"
          ]
        }
      ]
    },
    {
      "cell_type": "markdown",
      "source": [
        "#  사용자 평가 지표"
      ],
      "metadata": {
        "id": "U7ehNHPkcKRD"
      }
    },
    {
      "cell_type": "code",
      "source": [
        "class RootMeanSquaredError(keras.metrics.Metric):\n",
        "  def __init__(self,name='rmse',**kwargs):\n",
        "    super().__init__(name=name,**kwargs)\n",
        "    self.mse_sum = self.add_weight(name='mse_sum',initializer='zeros')\n",
        "    self.total_samples = self.add_weight(\n",
        "        name = 'total_samples',\n",
        "        initializer = 'zeros',dtype='int32'\n",
        "    )\n",
        "  def update_state(self,y_true,y_pred,sample_weight=None):\n",
        "    y_true = tf.one_hot(y_true,depth=tf.shape(y_pred)[1])\n",
        "    mse = tf.reduce_sum(tf.square(y_true - y_pred))\n",
        "    self.mse_sum.assign_add(mse)\n",
        "    num_samples = tf.shape(y_pred)[0]\n",
        "    self.total_samples.assign_add(num_samples)\n",
        "  def result(self):\n",
        "    return tf.sqrt(self.mse_sum/tf.cast(self.total_samples,tf.float32))\n",
        "  def reset_state(self):\n",
        "    self.mse_sum.assign(0.)\n",
        "    self.total_samples.assign(0)"
      ],
      "metadata": {
        "id": "Peljs3MpZVB-"
      },
      "execution_count": 32,
      "outputs": []
    },
    {
      "cell_type": "code",
      "source": [
        "model = get_mnist_model()\n",
        "#모델 컴파일\n",
        "model.compile(optimizer='rmsprop',\n",
        "              loss = keras.losses.sparse_categorical_crossentropy,\n",
        "              metrics=['accuracy',RootMeanSquaredError()])"
      ],
      "metadata": {
        "id": "Pd6WZrFmdliM"
      },
      "execution_count": 33,
      "outputs": []
    },
    {
      "cell_type": "code",
      "source": [
        "model.fit(x_train,y_train,epochs=20,validation_data=(x_val,y_val))"
      ],
      "metadata": {
        "colab": {
          "base_uri": "https://localhost:8080/"
        },
        "id": "dusGlUKLi1sY",
        "outputId": "6612a322-c9d4-43eb-a893-1f9d1b21baf5"
      },
      "execution_count": 34,
      "outputs": [
        {
          "output_type": "stream",
          "name": "stdout",
          "text": [
            "Epoch 1/20\n",
            "1563/1563 [==============================] - 13s 8ms/step - loss: 0.2176 - accuracy: 0.9361 - rmse: 7.2349 - val_loss: 0.1185 - val_accuracy: 0.9656 - val_rmse: 7.3756\n",
            "Epoch 2/20\n",
            "1563/1563 [==============================] - 13s 8ms/step - loss: 0.0913 - accuracy: 0.9731 - rmse: 7.3869 - val_loss: 0.0950 - val_accuracy: 0.9728 - val_rmse: 7.4130\n",
            "Epoch 3/20\n",
            "1563/1563 [==============================] - 12s 8ms/step - loss: 0.0628 - accuracy: 0.9807 - rmse: 7.4161 - val_loss: 0.0867 - val_accuracy: 0.9764 - val_rmse: 7.4274\n",
            "Epoch 4/20\n",
            "1563/1563 [==============================] - 13s 8ms/step - loss: 0.0450 - accuracy: 0.9866 - rmse: 7.4278 - val_loss: 0.0786 - val_accuracy: 0.9788 - val_rmse: 7.4374\n",
            "Epoch 5/20\n",
            "1563/1563 [==============================] - 12s 8ms/step - loss: 0.0360 - accuracy: 0.9886 - rmse: 7.4386 - val_loss: 0.0900 - val_accuracy: 0.9775 - val_rmse: 7.4420\n",
            "Epoch 6/20\n",
            "1563/1563 [==============================] - 12s 8ms/step - loss: 0.0263 - accuracy: 0.9922 - rmse: 7.4481 - val_loss: 0.0911 - val_accuracy: 0.9778 - val_rmse: 7.4461\n",
            "Epoch 7/20\n",
            "1563/1563 [==============================] - 12s 8ms/step - loss: 0.0209 - accuracy: 0.9934 - rmse: 7.4520 - val_loss: 0.0926 - val_accuracy: 0.9775 - val_rmse: 7.4496\n",
            "Epoch 8/20\n",
            "1563/1563 [==============================] - 12s 8ms/step - loss: 0.0158 - accuracy: 0.9953 - rmse: 7.4547 - val_loss: 0.0919 - val_accuracy: 0.9797 - val_rmse: 7.4526\n",
            "Epoch 9/20\n",
            "1563/1563 [==============================] - 12s 8ms/step - loss: 0.0122 - accuracy: 0.9963 - rmse: 7.4558 - val_loss: 0.0925 - val_accuracy: 0.9800 - val_rmse: 7.4544\n",
            "Epoch 10/20\n",
            "1563/1563 [==============================] - 13s 8ms/step - loss: 0.0090 - accuracy: 0.9970 - rmse: 7.4607 - val_loss: 0.1008 - val_accuracy: 0.9788 - val_rmse: 7.4538\n",
            "Epoch 11/20\n",
            "1563/1563 [==============================] - 14s 9ms/step - loss: 0.0063 - accuracy: 0.9980 - rmse: 7.4601 - val_loss: 0.0908 - val_accuracy: 0.9808 - val_rmse: 7.4551\n",
            "Epoch 12/20\n",
            "1563/1563 [==============================] - 14s 9ms/step - loss: 0.0040 - accuracy: 0.9988 - rmse: 7.4639 - val_loss: 0.0931 - val_accuracy: 0.9808 - val_rmse: 7.4592\n",
            "Epoch 13/20\n",
            "1563/1563 [==============================] - 13s 9ms/step - loss: 0.0029 - accuracy: 0.9993 - rmse: 7.4641 - val_loss: 0.1128 - val_accuracy: 0.9788 - val_rmse: 7.4574\n",
            "Epoch 14/20\n",
            "1563/1563 [==============================] - 13s 9ms/step - loss: 0.0018 - accuracy: 0.9997 - rmse: 7.4640 - val_loss: 0.1004 - val_accuracy: 0.9819 - val_rmse: 7.4602\n",
            "Epoch 15/20\n",
            "1563/1563 [==============================] - 13s 8ms/step - loss: 0.0018 - accuracy: 0.9996 - rmse: 7.4649 - val_loss: 0.1018 - val_accuracy: 0.9817 - val_rmse: 7.4618\n",
            "Epoch 16/20\n",
            "1563/1563 [==============================] - 14s 9ms/step - loss: 5.1784e-04 - accuracy: 0.9999 - rmse: 7.4679 - val_loss: 0.1013 - val_accuracy: 0.9815 - val_rmse: 7.4624\n",
            "Epoch 17/20\n",
            "1563/1563 [==============================] - 14s 9ms/step - loss: 2.7512e-04 - accuracy: 1.0000 - rmse: 7.4684 - val_loss: 0.1002 - val_accuracy: 0.9823 - val_rmse: 7.4629\n",
            "Epoch 18/20\n",
            "1563/1563 [==============================] - 14s 9ms/step - loss: 1.8171e-04 - accuracy: 1.0000 - rmse: 7.4662 - val_loss: 0.0993 - val_accuracy: 0.9828 - val_rmse: 7.4620\n",
            "Epoch 19/20\n",
            "1563/1563 [==============================] - 14s 9ms/step - loss: 6.4323e-05 - accuracy: 1.0000 - rmse: 7.4675 - val_loss: 0.1006 - val_accuracy: 0.9827 - val_rmse: 7.4632\n",
            "Epoch 20/20\n",
            "1563/1563 [==============================] - 15s 9ms/step - loss: 5.1096e-05 - accuracy: 1.0000 - rmse: 7.4657 - val_loss: 0.1011 - val_accuracy: 0.9824 - val_rmse: 7.4633\n"
          ]
        },
        {
          "output_type": "execute_result",
          "data": {
            "text/plain": [
              "<keras.callbacks.History at 0x78d3296da080>"
            ]
          },
          "metadata": {},
          "execution_count": 34
        }
      ]
    },
    {
      "cell_type": "code",
      "source": [
        "mcp=keras.callbacks.ModelCheckpoint('cp.keras',monitor='val_loss',save_best_only=True)\n",
        "es=keras.callbacks.EarlyStopping(monitor='val_loss', patience=4)"
      ],
      "metadata": {
        "id": "TW_bMPD6dwOz"
      },
      "execution_count": 35,
      "outputs": []
    },
    {
      "cell_type": "code",
      "source": [
        "model = get_mnist_model()\n",
        "#모델 컴파일\n",
        "model.compile(optimizer='rmsprop',\n",
        "              loss = keras.losses.sparse_categorical_crossentropy,\n",
        "              metrics=[RootMeanSquaredError()])\n",
        "\n",
        "hist=model.fit(x_train,y_train,epochs=20,validation_data=(x_val,y_val),callbacks=[mcp,es])"
      ],
      "metadata": {
        "colab": {
          "base_uri": "https://localhost:8080/"
        },
        "id": "WxTTUKiKjGfe",
        "outputId": "eacbb015-8987-46dd-d6e9-386d165990f9"
      },
      "execution_count": 36,
      "outputs": [
        {
          "output_type": "stream",
          "name": "stdout",
          "text": [
            "Epoch 1/20\n",
            "1563/1563 [==============================] - 14s 9ms/step - loss: 0.2199 - rmse: 7.2347 - val_loss: 0.1197 - val_rmse: 7.3572\n",
            "Epoch 2/20\n",
            "1563/1563 [==============================] - 14s 9ms/step - loss: 0.0917 - rmse: 7.3873 - val_loss: 0.1067 - val_rmse: 7.4066\n",
            "Epoch 3/20\n",
            "1563/1563 [==============================] - 14s 9ms/step - loss: 0.0626 - rmse: 7.4159 - val_loss: 0.0909 - val_rmse: 7.4245\n",
            "Epoch 4/20\n",
            "1563/1563 [==============================] - 14s 9ms/step - loss: 0.0460 - rmse: 7.4307 - val_loss: 0.0909 - val_rmse: 7.4367\n",
            "Epoch 5/20\n",
            "1563/1563 [==============================] - 14s 9ms/step - loss: 0.0343 - rmse: 7.4421 - val_loss: 0.0887 - val_rmse: 7.4404\n",
            "Epoch 6/20\n",
            "1563/1563 [==============================] - 14s 9ms/step - loss: 0.0267 - rmse: 7.4454 - val_loss: 0.0942 - val_rmse: 7.4443\n",
            "Epoch 7/20\n",
            "1563/1563 [==============================] - 14s 9ms/step - loss: 0.0203 - rmse: 7.4502 - val_loss: 0.0881 - val_rmse: 7.4511\n",
            "Epoch 8/20\n",
            "1563/1563 [==============================] - 14s 9ms/step - loss: 0.0146 - rmse: 7.4552 - val_loss: 0.0902 - val_rmse: 7.4533\n",
            "Epoch 9/20\n",
            "1563/1563 [==============================] - 14s 9ms/step - loss: 0.0110 - rmse: 7.4562 - val_loss: 0.0944 - val_rmse: 7.4532\n",
            "Epoch 10/20\n",
            "1563/1563 [==============================] - 15s 10ms/step - loss: 0.0092 - rmse: 7.4600 - val_loss: 0.1124 - val_rmse: 7.4539\n",
            "Epoch 11/20\n",
            "1563/1563 [==============================] - 14s 9ms/step - loss: 0.0065 - rmse: 7.4606 - val_loss: 0.0911 - val_rmse: 7.4573\n"
          ]
        }
      ]
    },
    {
      "cell_type": "code",
      "source": [
        "model=keras.models.load_model('/content/cp.keras')"
      ],
      "metadata": {
        "id": "nLk4SHFQjS89"
      },
      "execution_count": 37,
      "outputs": []
    },
    {
      "cell_type": "markdown",
      "source": [
        "# 사용자 정의 콜백"
      ],
      "metadata": {
        "id": "5vXg-oi2nC1Z"
      }
    },
    {
      "cell_type": "code",
      "source": [
        "class DemoCallBack(keras.callbacks.Callback):\n",
        "  def on_epoch_begin(self,logs):\n",
        "    print('eb')\n",
        "  def on_epoch_end(self,logs):\n",
        "    print('ee')\n",
        "  def on_batch_begin(self,logs):\n",
        "    print('bb')\n",
        "  def on_batch_end(self,logs):\n",
        "    print('be')\n",
        "  def on_train_begin(self,logs):\n",
        "    print('tb')\n",
        "  def on_train_end(self,logs):\n",
        "    print('te')"
      ],
      "metadata": {
        "id": "dLnKXftsmjM-"
      },
      "execution_count": 31,
      "outputs": []
    },
    {
      "cell_type": "markdown",
      "source": [
        "# 훈련 및 추론"
      ],
      "metadata": {
        "id": "TFDMwYulzZ8M"
      }
    },
    {
      "cell_type": "code",
      "source": [
        "metric=keras.metrics.SparseCategoricalAccuracy()\n",
        "y_actual=[0,1,2]\n",
        "pred=[[0.9,1,0.1],[0.45,0.44,0.11],[0.1,0.01,0.89]]"
      ],
      "metadata": {
        "id": "tjHs24BNnvsP"
      },
      "execution_count": 44,
      "outputs": []
    },
    {
      "cell_type": "code",
      "source": [
        "metric.update_state(y_actual,pred)"
      ],
      "metadata": {
        "colab": {
          "base_uri": "https://localhost:8080/"
        },
        "id": "yGwYdflu1x9O",
        "outputId": "aff99930-f992-4750-ed95-caac0cde3a02"
      },
      "execution_count": 45,
      "outputs": [
        {
          "output_type": "execute_result",
          "data": {
            "text/plain": [
              "<tf.Variable 'UnreadVariable' shape=() dtype=float32, numpy=3.0>"
            ]
          },
          "metadata": {},
          "execution_count": 45
        }
      ]
    },
    {
      "cell_type": "code",
      "source": [
        "metrics=keras.metrics.MeanSquaredError()"
      ],
      "metadata": {
        "id": "ZT6LQY6k139E"
      },
      "execution_count": 46,
      "outputs": []
    },
    {
      "cell_type": "code",
      "source": [
        "y_actual=[87,95,68,104]\n",
        "pred1=[78,82,93,91]\n",
        "pred2=[80,90,75,200]"
      ],
      "metadata": {
        "id": "UNdsktfk2aXI"
      },
      "execution_count": 49,
      "outputs": []
    },
    {
      "cell_type": "code",
      "source": [
        "metrics.update_state(y_actual,pred1)\n",
        "score=metrics.result()\n",
        "print(score)\n",
        "metrics.update_state(y_actual,pred2)\n",
        "score=metrics.result()\n",
        "print(score)"
      ],
      "metadata": {
        "colab": {
          "base_uri": "https://localhost:8080/"
        },
        "id": "DGG2vFmH241w",
        "outputId": "a3252cab-5fcb-4508-f2ca-d62fc95d1165"
      },
      "execution_count": 50,
      "outputs": [
        {
          "output_type": "stream",
          "name": "stdout",
          "text": [
            "tf.Tensor(952.25, shape=(), dtype=float32)\n",
            "tf.Tensor(1297.875, shape=(), dtype=float32)\n"
          ]
        }
      ]
    },
    {
      "cell_type": "code",
      "source": [],
      "metadata": {
        "id": "aYLJJNs-3DSL"
      },
      "execution_count": null,
      "outputs": []
    }
  ]
}